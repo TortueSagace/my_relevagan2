{
 "cells": [
  {
   "cell_type": "markdown",
   "metadata": {
    "id": "RU553Jumx05t"
   },
   "source": [
    "# RELEVAGAN"
   ]
  },
  {
   "cell_type": "markdown",
   "metadata": {
    "id": "CRWaG6qPWj1T"
   },
   "source": [
    "<a id=\"CGAN\"><h1>Import Header</h1></a>"
   ]
  },
  {
   "cell_type": "code",
   "metadata": {
    "colab": {
     "base_uri": "https://localhost:8080/"
    },
    "executionInfo": {
     "elapsed": 4298,
     "status": "ok",
     "timestamp": 1646286467366,
     "user": {
      "displayName": "Rizwan Hamid Randhawa",
      "photoUrl": "https://lh3.googleusercontent.com/a-/AOh14GiCoBmDlAGvdCQjk-uJ2xxx1pJC0fjRsK2FcWLNdaY=s64",
      "userId": "15615777248917371178"
     },
     "user_tz": 0
    },
    "id": "adrd84AgicLV",
    "outputId": "5efbe38a-5301-44fd-d78b-ccb5e21cd524",
    "ExecuteTime": {
     "end_time": "2024-09-04T09:03:07.893354Z",
     "start_time": "2024-09-04T09:03:07.878356Z"
    }
   },
   "source": [
    "# from google.colab import drive \n",
    "# drive.mount('/content/drive')\n",
    "# %cd /content/drive/MyDrive/PhD/Development/code/RELEVAGAN"
   ],
   "outputs": [],
   "execution_count": 10
  },
  {
   "metadata": {
    "ExecuteTime": {
     "end_time": "2024-09-04T09:03:13.275355Z",
     "start_time": "2024-09-04T09:03:07.984357Z"
    }
   },
   "cell_type": "code",
   "source": [
    "!pip install tabulate\n",
    "!pip install gym"
   ],
   "outputs": [
    {
     "name": "stdout",
     "output_type": "stream",
     "text": [
      "Requirement already satisfied: tabulate in c:\\users\\allem\\anaconda3\\envs\\qae\\lib\\site-packages (0.9.0)\n",
      "Requirement already satisfied: gym in c:\\users\\allem\\anaconda3\\envs\\qae\\lib\\site-packages (0.26.2)\n",
      "Requirement already satisfied: numpy>=1.18.0 in c:\\users\\allem\\anaconda3\\envs\\qae\\lib\\site-packages (from gym) (1.23.5)\n",
      "Requirement already satisfied: cloudpickle>=1.2.0 in c:\\users\\allem\\anaconda3\\envs\\qae\\lib\\site-packages (from gym) (3.0.0)\n",
      "Requirement already satisfied: gym-notices>=0.0.4 in c:\\users\\allem\\anaconda3\\envs\\qae\\lib\\site-packages (from gym) (0.0.8)\n",
      "Requirement already satisfied: importlib-metadata>=4.8.0 in c:\\users\\allem\\anaconda3\\envs\\qae\\lib\\site-packages (from gym) (8.0.0)\n",
      "Requirement already satisfied: zipp>=0.5 in c:\\users\\allem\\anaconda3\\envs\\qae\\lib\\site-packages (from importlib-metadata>=4.8.0->gym) (3.19.2)\n"
     ]
    }
   ],
   "execution_count": 11
  },
  {
   "cell_type": "code",
   "metadata": {
    "colab": {
     "base_uri": "https://localhost:8080/"
    },
    "executionInfo": {
     "elapsed": 1391,
     "status": "ok",
     "timestamp": 1646286468746,
     "user": {
      "displayName": "Rizwan Hamid Randhawa",
      "photoUrl": "https://lh3.googleusercontent.com/a-/AOh14GiCoBmDlAGvdCQjk-uJ2xxx1pJC0fjRsK2FcWLNdaY=s64",
      "userId": "15615777248917371178"
     },
     "user_tz": 0
    },
    "id": "mTwKRaEVjJ8c",
    "outputId": "919b98ff-2212-4330-ea6a-1b32ba525777",
    "ExecuteTime": {
     "end_time": "2024-09-04T11:09:25.671183Z",
     "start_time": "2024-09-04T11:08:42.802104Z"
    }
   },
   "source": [
    "!pip install tensorflow\n",
    "!pip install gym\n",
    "!pip install keras\n",
    "!pip install keras-rl2\n",
    "\n",
    "!pip install keras-rl2"
   ],
   "outputs": [
    {
     "name": "stdout",
     "output_type": "stream",
     "text": [
      "Requirement already satisfied: tensorflow in c:\\users\\allem\\.julia\\conda\\3\\x86_64\\lib\\site-packages (2.15.0)\n",
      "Requirement already satisfied: tensorflow-intel==2.15.0 in c:\\users\\allem\\.julia\\conda\\3\\x86_64\\lib\\site-packages (from tensorflow) (2.15.0)\n",
      "Requirement already satisfied: termcolor>=1.1.0 in c:\\users\\allem\\.julia\\conda\\3\\x86_64\\lib\\site-packages (from tensorflow-intel==2.15.0->tensorflow) (2.4.0)\n",
      "Requirement already satisfied: google-pasta>=0.1.1 in c:\\users\\allem\\.julia\\conda\\3\\x86_64\\lib\\site-packages (from tensorflow-intel==2.15.0->tensorflow) (0.2.0)\n",
      "Requirement already satisfied: tensorflow-estimator<2.16,>=2.15.0 in c:\\users\\allem\\.julia\\conda\\3\\x86_64\\lib\\site-packages (from tensorflow-intel==2.15.0->tensorflow) (2.15.0)\n",
      "Requirement already satisfied: gast!=0.5.0,!=0.5.1,!=0.5.2,>=0.2.1 in c:\\users\\allem\\.julia\\conda\\3\\x86_64\\lib\\site-packages (from tensorflow-intel==2.15.0->tensorflow) (0.5.4)\n",
      "Requirement already satisfied: packaging in c:\\users\\allem\\.julia\\conda\\3\\x86_64\\lib\\site-packages (from tensorflow-intel==2.15.0->tensorflow) (23.0)\n",
      "Requirement already satisfied: tensorflow-io-gcs-filesystem>=0.23.1 in c:\\users\\allem\\.julia\\conda\\3\\x86_64\\lib\\site-packages (from tensorflow-intel==2.15.0->tensorflow) (0.31.0)\n",
      "Requirement already satisfied: numpy<2.0.0,>=1.23.5 in c:\\users\\allem\\.julia\\conda\\3\\x86_64\\lib\\site-packages (from tensorflow-intel==2.15.0->tensorflow) (1.23.5)\n",
      "Requirement already satisfied: h5py>=2.9.0 in c:\\users\\allem\\.julia\\conda\\3\\x86_64\\lib\\site-packages (from tensorflow-intel==2.15.0->tensorflow) (3.10.0)\n",
      "Requirement already satisfied: setuptools in c:\\users\\allem\\.julia\\conda\\3\\x86_64\\lib\\site-packages (from tensorflow-intel==2.15.0->tensorflow) (65.6.3)\n",
      "Requirement already satisfied: tensorboard<2.16,>=2.15 in c:\\users\\allem\\.julia\\conda\\3\\x86_64\\lib\\site-packages (from tensorflow-intel==2.15.0->tensorflow) (2.15.2)\n",
      "Requirement already satisfied: protobuf!=4.21.0,!=4.21.1,!=4.21.2,!=4.21.3,!=4.21.4,!=4.21.5,<5.0.0dev,>=3.20.3 in c:\\users\\allem\\.julia\\conda\\3\\x86_64\\lib\\site-packages (from tensorflow-intel==2.15.0->tensorflow) (4.23.3)\n",
      "Requirement already satisfied: typing-extensions>=3.6.6 in c:\\users\\allem\\.julia\\conda\\3\\x86_64\\lib\\site-packages (from tensorflow-intel==2.15.0->tensorflow) (4.11.0)\n",
      "Requirement already satisfied: absl-py>=1.0.0 in c:\\users\\allem\\.julia\\conda\\3\\x86_64\\lib\\site-packages (from tensorflow-intel==2.15.0->tensorflow) (1.4.0)\n",
      "Requirement already satisfied: keras<2.16,>=2.15.0 in c:\\users\\allem\\.julia\\conda\\3\\x86_64\\lib\\site-packages (from tensorflow-intel==2.15.0->tensorflow) (2.15.0)\n",
      "Requirement already satisfied: opt-einsum>=2.3.2 in c:\\users\\allem\\.julia\\conda\\3\\x86_64\\lib\\site-packages (from tensorflow-intel==2.15.0->tensorflow) (3.3.0)\n",
      "Requirement already satisfied: ml-dtypes~=0.2.0 in c:\\users\\allem\\.julia\\conda\\3\\x86_64\\lib\\site-packages (from tensorflow-intel==2.15.0->tensorflow) (0.2.0)\n",
      "Requirement already satisfied: libclang>=13.0.0 in c:\\users\\allem\\.julia\\conda\\3\\x86_64\\lib\\site-packages (from tensorflow-intel==2.15.0->tensorflow) (16.0.6)\n",
      "Requirement already satisfied: astunparse>=1.6.0 in c:\\users\\allem\\.julia\\conda\\3\\x86_64\\lib\\site-packages (from tensorflow-intel==2.15.0->tensorflow) (1.6.3)\n",
      "Requirement already satisfied: flatbuffers>=23.5.26 in c:\\users\\allem\\.julia\\conda\\3\\x86_64\\lib\\site-packages (from tensorflow-intel==2.15.0->tensorflow) (23.5.26)\n",
      "Requirement already satisfied: six>=1.12.0 in c:\\users\\allem\\.julia\\conda\\3\\x86_64\\lib\\site-packages (from tensorflow-intel==2.15.0->tensorflow) (1.16.0)\n",
      "Requirement already satisfied: wrapt<1.15,>=1.11.0 in c:\\users\\allem\\.julia\\conda\\3\\x86_64\\lib\\site-packages (from tensorflow-intel==2.15.0->tensorflow) (1.14.1)\n",
      "Requirement already satisfied: grpcio<2.0,>=1.24.3 in c:\\users\\allem\\.julia\\conda\\3\\x86_64\\lib\\site-packages (from tensorflow-intel==2.15.0->tensorflow) (1.56.0)\n",
      "Requirement already satisfied: wheel<1.0,>=0.23.0 in c:\\users\\allem\\.julia\\conda\\3\\x86_64\\lib\\site-packages (from astunparse>=1.6.0->tensorflow-intel==2.15.0->tensorflow) (0.38.4)\n",
      "Requirement already satisfied: requests<3,>=2.21.0 in c:\\users\\allem\\.julia\\conda\\3\\x86_64\\lib\\site-packages (from tensorboard<2.16,>=2.15->tensorflow-intel==2.15.0->tensorflow) (2.28.2)\n",
      "Requirement already satisfied: google-auth-oauthlib<2,>=0.5 in c:\\users\\allem\\.julia\\conda\\3\\x86_64\\lib\\site-packages (from tensorboard<2.16,>=2.15->tensorflow-intel==2.15.0->tensorflow) (1.2.0)\n",
      "Requirement already satisfied: markdown>=2.6.8 in c:\\users\\allem\\.julia\\conda\\3\\x86_64\\lib\\site-packages (from tensorboard<2.16,>=2.15->tensorflow-intel==2.15.0->tensorflow) (3.4.3)\n",
      "Requirement already satisfied: tensorboard-data-server<0.8.0,>=0.7.0 in c:\\users\\allem\\.julia\\conda\\3\\x86_64\\lib\\site-packages (from tensorboard<2.16,>=2.15->tensorflow-intel==2.15.0->tensorflow) (0.7.2)\n",
      "Requirement already satisfied: werkzeug>=1.0.1 in c:\\users\\allem\\.julia\\conda\\3\\x86_64\\lib\\site-packages (from tensorboard<2.16,>=2.15->tensorflow-intel==2.15.0->tensorflow) (2.3.6)\n",
      "Requirement already satisfied: google-auth<3,>=1.6.3 in c:\\users\\allem\\.julia\\conda\\3\\x86_64\\lib\\site-packages (from tensorboard<2.16,>=2.15->tensorflow-intel==2.15.0->tensorflow) (2.21.0)\n",
      "Requirement already satisfied: pyasn1-modules>=0.2.1 in c:\\users\\allem\\.julia\\conda\\3\\x86_64\\lib\\site-packages (from google-auth<3,>=1.6.3->tensorboard<2.16,>=2.15->tensorflow-intel==2.15.0->tensorflow) (0.2.7)\n",
      "Requirement already satisfied: urllib3<2.0 in c:\\users\\allem\\.julia\\conda\\3\\x86_64\\lib\\site-packages (from google-auth<3,>=1.6.3->tensorboard<2.16,>=2.15->tensorflow-intel==2.15.0->tensorflow) (1.26.14)\n",
      "Requirement already satisfied: rsa<5,>=3.1.4 in c:\\users\\allem\\.julia\\conda\\3\\x86_64\\lib\\site-packages (from google-auth<3,>=1.6.3->tensorboard<2.16,>=2.15->tensorflow-intel==2.15.0->tensorflow) (4.9)\n",
      "Requirement already satisfied: cachetools<6.0,>=2.0.0 in c:\\users\\allem\\.julia\\conda\\3\\x86_64\\lib\\site-packages (from google-auth<3,>=1.6.3->tensorboard<2.16,>=2.15->tensorflow-intel==2.15.0->tensorflow) (5.3.1)\n",
      "Requirement already satisfied: requests-oauthlib>=0.7.0 in c:\\users\\allem\\.julia\\conda\\3\\x86_64\\lib\\site-packages (from google-auth-oauthlib<2,>=0.5->tensorboard<2.16,>=2.15->tensorflow-intel==2.15.0->tensorflow) (1.3.1)\n",
      "Requirement already satisfied: idna<4,>=2.5 in c:\\users\\allem\\.julia\\conda\\3\\x86_64\\lib\\site-packages (from requests<3,>=2.21.0->tensorboard<2.16,>=2.15->tensorflow-intel==2.15.0->tensorflow) (3.4)\n",
      "Requirement already satisfied: charset-normalizer<4,>=2 in c:\\users\\allem\\.julia\\conda\\3\\x86_64\\lib\\site-packages (from requests<3,>=2.21.0->tensorboard<2.16,>=2.15->tensorflow-intel==2.15.0->tensorflow) (2.1.1)\n",
      "Requirement already satisfied: certifi>=2017.4.17 in c:\\users\\allem\\.julia\\conda\\3\\x86_64\\lib\\site-packages (from requests<3,>=2.21.0->tensorboard<2.16,>=2.15->tensorflow-intel==2.15.0->tensorflow) (2024.2.2)\n",
      "Requirement already satisfied: MarkupSafe>=2.1.1 in c:\\users\\allem\\.julia\\conda\\3\\x86_64\\lib\\site-packages (from werkzeug>=1.0.1->tensorboard<2.16,>=2.15->tensorflow-intel==2.15.0->tensorflow) (2.1.2)\n",
      "Requirement already satisfied: pyasn1<0.5.0,>=0.4.6 in c:\\users\\allem\\.julia\\conda\\3\\x86_64\\lib\\site-packages (from pyasn1-modules>=0.2.1->google-auth<3,>=1.6.3->tensorboard<2.16,>=2.15->tensorflow-intel==2.15.0->tensorflow) (0.4.8)\n",
      "Requirement already satisfied: oauthlib>=3.0.0 in c:\\users\\allem\\.julia\\conda\\3\\x86_64\\lib\\site-packages (from requests-oauthlib>=0.7.0->google-auth-oauthlib<2,>=0.5->tensorboard<2.16,>=2.15->tensorflow-intel==2.15.0->tensorflow) (3.2.2)\n",
      "Collecting gym\n",
      "  Downloading gym-0.26.2.tar.gz (721 kB)\n",
      "     -------------------------------------- 721.7/721.7 kB 2.0 MB/s eta 0:00:00\n",
      "  Installing build dependencies: started\n",
      "  Installing build dependencies: finished with status 'done'\n",
      "  Getting requirements to build wheel: started\n",
      "  Getting requirements to build wheel: finished with status 'done'\n",
      "  Preparing metadata (pyproject.toml): started\n",
      "  Preparing metadata (pyproject.toml): finished with status 'done'\n",
      "Requirement already satisfied: numpy>=1.18.0 in c:\\users\\allem\\.julia\\conda\\3\\x86_64\\lib\\site-packages (from gym) (1.23.5)\n",
      "Collecting gym-notices>=0.0.4\n",
      "  Downloading gym_notices-0.0.8-py3-none-any.whl (3.0 kB)\n",
      "Requirement already satisfied: cloudpickle>=1.2.0 in c:\\users\\allem\\.julia\\conda\\3\\x86_64\\lib\\site-packages (from gym) (2.2.1)\n",
      "Building wheels for collected packages: gym\n",
      "  Building wheel for gym (pyproject.toml): started\n",
      "  Building wheel for gym (pyproject.toml): finished with status 'done'\n",
      "  Created wheel for gym: filename=gym-0.26.2-py3-none-any.whl size=827632 sha256=2bed2005f3f74bf438fd9b56854d6f6bbe4cdfbfd4a8e5cb03b532665c498bbb\n",
      "  Stored in directory: c:\\users\\allem\\appdata\\local\\pip\\cache\\wheels\\ae\\5f\\67\\64914473eb34e9ba89dbc7eefe7e9be8f6673fbc6f0273b29f\n",
      "Successfully built gym\n",
      "Installing collected packages: gym-notices, gym\n",
      "Successfully installed gym-0.26.2 gym-notices-0.0.8\n",
      "Requirement already satisfied: keras in c:\\users\\allem\\.julia\\conda\\3\\x86_64\\lib\\site-packages (2.15.0)\n",
      "Collecting keras-rl2\n",
      "  Downloading keras_rl2-1.0.5-py3-none-any.whl (52 kB)\n",
      "     -------------------------------------- 52.1/52.1 kB 536.8 kB/s eta 0:00:00\n",
      "Requirement already satisfied: tensorflow in c:\\users\\allem\\.julia\\conda\\3\\x86_64\\lib\\site-packages (from keras-rl2) (2.15.0)\n",
      "Requirement already satisfied: tensorflow-intel==2.15.0 in c:\\users\\allem\\.julia\\conda\\3\\x86_64\\lib\\site-packages (from tensorflow->keras-rl2) (2.15.0)\n",
      "Requirement already satisfied: tensorflow-io-gcs-filesystem>=0.23.1 in c:\\users\\allem\\.julia\\conda\\3\\x86_64\\lib\\site-packages (from tensorflow-intel==2.15.0->tensorflow->keras-rl2) (0.31.0)\n",
      "Requirement already satisfied: h5py>=2.9.0 in c:\\users\\allem\\.julia\\conda\\3\\x86_64\\lib\\site-packages (from tensorflow-intel==2.15.0->tensorflow->keras-rl2) (3.10.0)\n",
      "Requirement already satisfied: protobuf!=4.21.0,!=4.21.1,!=4.21.2,!=4.21.3,!=4.21.4,!=4.21.5,<5.0.0dev,>=3.20.3 in c:\\users\\allem\\.julia\\conda\\3\\x86_64\\lib\\site-packages (from tensorflow-intel==2.15.0->tensorflow->keras-rl2) (4.23.3)\n",
      "Requirement already satisfied: typing-extensions>=3.6.6 in c:\\users\\allem\\.julia\\conda\\3\\x86_64\\lib\\site-packages (from tensorflow-intel==2.15.0->tensorflow->keras-rl2) (4.11.0)\n",
      "Requirement already satisfied: wrapt<1.15,>=1.11.0 in c:\\users\\allem\\.julia\\conda\\3\\x86_64\\lib\\site-packages (from tensorflow-intel==2.15.0->tensorflow->keras-rl2) (1.14.1)\n",
      "Requirement already satisfied: absl-py>=1.0.0 in c:\\users\\allem\\.julia\\conda\\3\\x86_64\\lib\\site-packages (from tensorflow-intel==2.15.0->tensorflow->keras-rl2) (1.4.0)\n",
      "Requirement already satisfied: grpcio<2.0,>=1.24.3 in c:\\users\\allem\\.julia\\conda\\3\\x86_64\\lib\\site-packages (from tensorflow-intel==2.15.0->tensorflow->keras-rl2) (1.56.0)\n",
      "Requirement already satisfied: setuptools in c:\\users\\allem\\.julia\\conda\\3\\x86_64\\lib\\site-packages (from tensorflow-intel==2.15.0->tensorflow->keras-rl2) (65.6.3)\n",
      "Requirement already satisfied: libclang>=13.0.0 in c:\\users\\allem\\.julia\\conda\\3\\x86_64\\lib\\site-packages (from tensorflow-intel==2.15.0->tensorflow->keras-rl2) (16.0.6)\n",
      "Requirement already satisfied: packaging in c:\\users\\allem\\.julia\\conda\\3\\x86_64\\lib\\site-packages (from tensorflow-intel==2.15.0->tensorflow->keras-rl2) (23.0)\n",
      "Requirement already satisfied: six>=1.12.0 in c:\\users\\allem\\.julia\\conda\\3\\x86_64\\lib\\site-packages (from tensorflow-intel==2.15.0->tensorflow->keras-rl2) (1.16.0)\n",
      "Requirement already satisfied: google-pasta>=0.1.1 in c:\\users\\allem\\.julia\\conda\\3\\x86_64\\lib\\site-packages (from tensorflow-intel==2.15.0->tensorflow->keras-rl2) (0.2.0)\n",
      "Requirement already satisfied: tensorboard<2.16,>=2.15 in c:\\users\\allem\\.julia\\conda\\3\\x86_64\\lib\\site-packages (from tensorflow-intel==2.15.0->tensorflow->keras-rl2) (2.15.2)\n",
      "Requirement already satisfied: ml-dtypes~=0.2.0 in c:\\users\\allem\\.julia\\conda\\3\\x86_64\\lib\\site-packages (from tensorflow-intel==2.15.0->tensorflow->keras-rl2) (0.2.0)\n",
      "Requirement already satisfied: opt-einsum>=2.3.2 in c:\\users\\allem\\.julia\\conda\\3\\x86_64\\lib\\site-packages (from tensorflow-intel==2.15.0->tensorflow->keras-rl2) (3.3.0)\n",
      "Requirement already satisfied: termcolor>=1.1.0 in c:\\users\\allem\\.julia\\conda\\3\\x86_64\\lib\\site-packages (from tensorflow-intel==2.15.0->tensorflow->keras-rl2) (2.4.0)\n",
      "Requirement already satisfied: astunparse>=1.6.0 in c:\\users\\allem\\.julia\\conda\\3\\x86_64\\lib\\site-packages (from tensorflow-intel==2.15.0->tensorflow->keras-rl2) (1.6.3)\n",
      "Requirement already satisfied: gast!=0.5.0,!=0.5.1,!=0.5.2,>=0.2.1 in c:\\users\\allem\\.julia\\conda\\3\\x86_64\\lib\\site-packages (from tensorflow-intel==2.15.0->tensorflow->keras-rl2) (0.5.4)\n",
      "Requirement already satisfied: flatbuffers>=23.5.26 in c:\\users\\allem\\.julia\\conda\\3\\x86_64\\lib\\site-packages (from tensorflow-intel==2.15.0->tensorflow->keras-rl2) (23.5.26)\n",
      "Requirement already satisfied: keras<2.16,>=2.15.0 in c:\\users\\allem\\.julia\\conda\\3\\x86_64\\lib\\site-packages (from tensorflow-intel==2.15.0->tensorflow->keras-rl2) (2.15.0)\n",
      "Requirement already satisfied: numpy<2.0.0,>=1.23.5 in c:\\users\\allem\\.julia\\conda\\3\\x86_64\\lib\\site-packages (from tensorflow-intel==2.15.0->tensorflow->keras-rl2) (1.23.5)\n",
      "Requirement already satisfied: tensorflow-estimator<2.16,>=2.15.0 in c:\\users\\allem\\.julia\\conda\\3\\x86_64\\lib\\site-packages (from tensorflow-intel==2.15.0->tensorflow->keras-rl2) (2.15.0)\n",
      "Requirement already satisfied: wheel<1.0,>=0.23.0 in c:\\users\\allem\\.julia\\conda\\3\\x86_64\\lib\\site-packages (from astunparse>=1.6.0->tensorflow-intel==2.15.0->tensorflow->keras-rl2) (0.38.4)\n",
      "Requirement already satisfied: markdown>=2.6.8 in c:\\users\\allem\\.julia\\conda\\3\\x86_64\\lib\\site-packages (from tensorboard<2.16,>=2.15->tensorflow-intel==2.15.0->tensorflow->keras-rl2) (3.4.3)\n",
      "Requirement already satisfied: requests<3,>=2.21.0 in c:\\users\\allem\\.julia\\conda\\3\\x86_64\\lib\\site-packages (from tensorboard<2.16,>=2.15->tensorflow-intel==2.15.0->tensorflow->keras-rl2) (2.28.2)\n",
      "Requirement already satisfied: tensorboard-data-server<0.8.0,>=0.7.0 in c:\\users\\allem\\.julia\\conda\\3\\x86_64\\lib\\site-packages (from tensorboard<2.16,>=2.15->tensorflow-intel==2.15.0->tensorflow->keras-rl2) (0.7.2)\n",
      "Requirement already satisfied: werkzeug>=1.0.1 in c:\\users\\allem\\.julia\\conda\\3\\x86_64\\lib\\site-packages (from tensorboard<2.16,>=2.15->tensorflow-intel==2.15.0->tensorflow->keras-rl2) (2.3.6)\n",
      "Requirement already satisfied: google-auth-oauthlib<2,>=0.5 in c:\\users\\allem\\.julia\\conda\\3\\x86_64\\lib\\site-packages (from tensorboard<2.16,>=2.15->tensorflow-intel==2.15.0->tensorflow->keras-rl2) (1.2.0)\n",
      "Requirement already satisfied: google-auth<3,>=1.6.3 in c:\\users\\allem\\.julia\\conda\\3\\x86_64\\lib\\site-packages (from tensorboard<2.16,>=2.15->tensorflow-intel==2.15.0->tensorflow->keras-rl2) (2.21.0)\n",
      "Requirement already satisfied: cachetools<6.0,>=2.0.0 in c:\\users\\allem\\.julia\\conda\\3\\x86_64\\lib\\site-packages (from google-auth<3,>=1.6.3->tensorboard<2.16,>=2.15->tensorflow-intel==2.15.0->tensorflow->keras-rl2) (5.3.1)\n",
      "Requirement already satisfied: rsa<5,>=3.1.4 in c:\\users\\allem\\.julia\\conda\\3\\x86_64\\lib\\site-packages (from google-auth<3,>=1.6.3->tensorboard<2.16,>=2.15->tensorflow-intel==2.15.0->tensorflow->keras-rl2) (4.9)\n",
      "Requirement already satisfied: pyasn1-modules>=0.2.1 in c:\\users\\allem\\.julia\\conda\\3\\x86_64\\lib\\site-packages (from google-auth<3,>=1.6.3->tensorboard<2.16,>=2.15->tensorflow-intel==2.15.0->tensorflow->keras-rl2) (0.2.7)\n",
      "Requirement already satisfied: urllib3<2.0 in c:\\users\\allem\\.julia\\conda\\3\\x86_64\\lib\\site-packages (from google-auth<3,>=1.6.3->tensorboard<2.16,>=2.15->tensorflow-intel==2.15.0->tensorflow->keras-rl2) (1.26.14)\n",
      "Requirement already satisfied: requests-oauthlib>=0.7.0 in c:\\users\\allem\\.julia\\conda\\3\\x86_64\\lib\\site-packages (from google-auth-oauthlib<2,>=0.5->tensorboard<2.16,>=2.15->tensorflow-intel==2.15.0->tensorflow->keras-rl2) (1.3.1)\n",
      "Requirement already satisfied: charset-normalizer<4,>=2 in c:\\users\\allem\\.julia\\conda\\3\\x86_64\\lib\\site-packages (from requests<3,>=2.21.0->tensorboard<2.16,>=2.15->tensorflow-intel==2.15.0->tensorflow->keras-rl2) (2.1.1)\n",
      "Requirement already satisfied: certifi>=2017.4.17 in c:\\users\\allem\\.julia\\conda\\3\\x86_64\\lib\\site-packages (from requests<3,>=2.21.0->tensorboard<2.16,>=2.15->tensorflow-intel==2.15.0->tensorflow->keras-rl2) (2024.2.2)\n",
      "Requirement already satisfied: idna<4,>=2.5 in c:\\users\\allem\\.julia\\conda\\3\\x86_64\\lib\\site-packages (from requests<3,>=2.21.0->tensorboard<2.16,>=2.15->tensorflow-intel==2.15.0->tensorflow->keras-rl2) (3.4)\n",
      "Requirement already satisfied: MarkupSafe>=2.1.1 in c:\\users\\allem\\.julia\\conda\\3\\x86_64\\lib\\site-packages (from werkzeug>=1.0.1->tensorboard<2.16,>=2.15->tensorflow-intel==2.15.0->tensorflow->keras-rl2) (2.1.2)\n",
      "Requirement already satisfied: pyasn1<0.5.0,>=0.4.6 in c:\\users\\allem\\.julia\\conda\\3\\x86_64\\lib\\site-packages (from pyasn1-modules>=0.2.1->google-auth<3,>=1.6.3->tensorboard<2.16,>=2.15->tensorflow-intel==2.15.0->tensorflow->keras-rl2) (0.4.8)\n",
      "Requirement already satisfied: oauthlib>=3.0.0 in c:\\users\\allem\\.julia\\conda\\3\\x86_64\\lib\\site-packages (from requests-oauthlib>=0.7.0->google-auth-oauthlib<2,>=0.5->tensorboard<2.16,>=2.15->tensorflow-intel==2.15.0->tensorflow->keras-rl2) (3.2.2)\n",
      "Installing collected packages: keras-rl2\n",
      "Successfully installed keras-rl2-1.0.5\n",
      "Requirement already satisfied: keras-rl2 in c:\\users\\allem\\.julia\\conda\\3\\x86_64\\lib\\site-packages (1.0.5)\n",
      "Requirement already satisfied: tensorflow in c:\\users\\allem\\.julia\\conda\\3\\x86_64\\lib\\site-packages (from keras-rl2) (2.15.0)\n",
      "Requirement already satisfied: tensorflow-intel==2.15.0 in c:\\users\\allem\\.julia\\conda\\3\\x86_64\\lib\\site-packages (from tensorflow->keras-rl2) (2.15.0)\n",
      "Requirement already satisfied: astunparse>=1.6.0 in c:\\users\\allem\\.julia\\conda\\3\\x86_64\\lib\\site-packages (from tensorflow-intel==2.15.0->tensorflow->keras-rl2) (1.6.3)\n",
      "Requirement already satisfied: absl-py>=1.0.0 in c:\\users\\allem\\.julia\\conda\\3\\x86_64\\lib\\site-packages (from tensorflow-intel==2.15.0->tensorflow->keras-rl2) (1.4.0)\n",
      "Requirement already satisfied: six>=1.12.0 in c:\\users\\allem\\.julia\\conda\\3\\x86_64\\lib\\site-packages (from tensorflow-intel==2.15.0->tensorflow->keras-rl2) (1.16.0)\n",
      "Requirement already satisfied: packaging in c:\\users\\allem\\.julia\\conda\\3\\x86_64\\lib\\site-packages (from tensorflow-intel==2.15.0->tensorflow->keras-rl2) (23.0)\n",
      "Requirement already satisfied: flatbuffers>=23.5.26 in c:\\users\\allem\\.julia\\conda\\3\\x86_64\\lib\\site-packages (from tensorflow-intel==2.15.0->tensorflow->keras-rl2) (23.5.26)\n",
      "Requirement already satisfied: setuptools in c:\\users\\allem\\.julia\\conda\\3\\x86_64\\lib\\site-packages (from tensorflow-intel==2.15.0->tensorflow->keras-rl2) (65.6.3)\n",
      "Requirement already satisfied: protobuf!=4.21.0,!=4.21.1,!=4.21.2,!=4.21.3,!=4.21.4,!=4.21.5,<5.0.0dev,>=3.20.3 in c:\\users\\allem\\.julia\\conda\\3\\x86_64\\lib\\site-packages (from tensorflow-intel==2.15.0->tensorflow->keras-rl2) (4.23.3)\n",
      "Requirement already satisfied: h5py>=2.9.0 in c:\\users\\allem\\.julia\\conda\\3\\x86_64\\lib\\site-packages (from tensorflow-intel==2.15.0->tensorflow->keras-rl2) (3.10.0)\n",
      "Requirement already satisfied: keras<2.16,>=2.15.0 in c:\\users\\allem\\.julia\\conda\\3\\x86_64\\lib\\site-packages (from tensorflow-intel==2.15.0->tensorflow->keras-rl2) (2.15.0)\n",
      "Requirement already satisfied: grpcio<2.0,>=1.24.3 in c:\\users\\allem\\.julia\\conda\\3\\x86_64\\lib\\site-packages (from tensorflow-intel==2.15.0->tensorflow->keras-rl2) (1.56.0)\n",
      "Requirement already satisfied: gast!=0.5.0,!=0.5.1,!=0.5.2,>=0.2.1 in c:\\users\\allem\\.julia\\conda\\3\\x86_64\\lib\\site-packages (from tensorflow-intel==2.15.0->tensorflow->keras-rl2) (0.5.4)\n",
      "Requirement already satisfied: opt-einsum>=2.3.2 in c:\\users\\allem\\.julia\\conda\\3\\x86_64\\lib\\site-packages (from tensorflow-intel==2.15.0->tensorflow->keras-rl2) (3.3.0)\n",
      "Requirement already satisfied: ml-dtypes~=0.2.0 in c:\\users\\allem\\.julia\\conda\\3\\x86_64\\lib\\site-packages (from tensorflow-intel==2.15.0->tensorflow->keras-rl2) (0.2.0)\n",
      "Requirement already satisfied: wrapt<1.15,>=1.11.0 in c:\\users\\allem\\.julia\\conda\\3\\x86_64\\lib\\site-packages (from tensorflow-intel==2.15.0->tensorflow->keras-rl2) (1.14.1)\n",
      "Requirement already satisfied: tensorboard<2.16,>=2.15 in c:\\users\\allem\\.julia\\conda\\3\\x86_64\\lib\\site-packages (from tensorflow-intel==2.15.0->tensorflow->keras-rl2) (2.15.2)\n",
      "Requirement already satisfied: libclang>=13.0.0 in c:\\users\\allem\\.julia\\conda\\3\\x86_64\\lib\\site-packages (from tensorflow-intel==2.15.0->tensorflow->keras-rl2) (16.0.6)\n",
      "Requirement already satisfied: tensorflow-io-gcs-filesystem>=0.23.1 in c:\\users\\allem\\.julia\\conda\\3\\x86_64\\lib\\site-packages (from tensorflow-intel==2.15.0->tensorflow->keras-rl2) (0.31.0)\n",
      "Requirement already satisfied: tensorflow-estimator<2.16,>=2.15.0 in c:\\users\\allem\\.julia\\conda\\3\\x86_64\\lib\\site-packages (from tensorflow-intel==2.15.0->tensorflow->keras-rl2) (2.15.0)\n",
      "Requirement already satisfied: numpy<2.0.0,>=1.23.5 in c:\\users\\allem\\.julia\\conda\\3\\x86_64\\lib\\site-packages (from tensorflow-intel==2.15.0->tensorflow->keras-rl2) (1.23.5)\n",
      "Requirement already satisfied: google-pasta>=0.1.1 in c:\\users\\allem\\.julia\\conda\\3\\x86_64\\lib\\site-packages (from tensorflow-intel==2.15.0->tensorflow->keras-rl2) (0.2.0)\n",
      "Requirement already satisfied: termcolor>=1.1.0 in c:\\users\\allem\\.julia\\conda\\3\\x86_64\\lib\\site-packages (from tensorflow-intel==2.15.0->tensorflow->keras-rl2) (2.4.0)\n",
      "Requirement already satisfied: typing-extensions>=3.6.6 in c:\\users\\allem\\.julia\\conda\\3\\x86_64\\lib\\site-packages (from tensorflow-intel==2.15.0->tensorflow->keras-rl2) (4.11.0)\n",
      "Requirement already satisfied: wheel<1.0,>=0.23.0 in c:\\users\\allem\\.julia\\conda\\3\\x86_64\\lib\\site-packages (from astunparse>=1.6.0->tensorflow-intel==2.15.0->tensorflow->keras-rl2) (0.38.4)\n",
      "Requirement already satisfied: markdown>=2.6.8 in c:\\users\\allem\\.julia\\conda\\3\\x86_64\\lib\\site-packages (from tensorboard<2.16,>=2.15->tensorflow-intel==2.15.0->tensorflow->keras-rl2) (3.4.3)\n",
      "Requirement already satisfied: google-auth<3,>=1.6.3 in c:\\users\\allem\\.julia\\conda\\3\\x86_64\\lib\\site-packages (from tensorboard<2.16,>=2.15->tensorflow-intel==2.15.0->tensorflow->keras-rl2) (2.21.0)\n",
      "Requirement already satisfied: requests<3,>=2.21.0 in c:\\users\\allem\\.julia\\conda\\3\\x86_64\\lib\\site-packages (from tensorboard<2.16,>=2.15->tensorflow-intel==2.15.0->tensorflow->keras-rl2) (2.28.2)\n",
      "Requirement already satisfied: tensorboard-data-server<0.8.0,>=0.7.0 in c:\\users\\allem\\.julia\\conda\\3\\x86_64\\lib\\site-packages (from tensorboard<2.16,>=2.15->tensorflow-intel==2.15.0->tensorflow->keras-rl2) (0.7.2)\n",
      "Requirement already satisfied: google-auth-oauthlib<2,>=0.5 in c:\\users\\allem\\.julia\\conda\\3\\x86_64\\lib\\site-packages (from tensorboard<2.16,>=2.15->tensorflow-intel==2.15.0->tensorflow->keras-rl2) (1.2.0)\n",
      "Requirement already satisfied: werkzeug>=1.0.1 in c:\\users\\allem\\.julia\\conda\\3\\x86_64\\lib\\site-packages (from tensorboard<2.16,>=2.15->tensorflow-intel==2.15.0->tensorflow->keras-rl2) (2.3.6)\n",
      "Requirement already satisfied: urllib3<2.0 in c:\\users\\allem\\.julia\\conda\\3\\x86_64\\lib\\site-packages (from google-auth<3,>=1.6.3->tensorboard<2.16,>=2.15->tensorflow-intel==2.15.0->tensorflow->keras-rl2) (1.26.14)\n",
      "Requirement already satisfied: rsa<5,>=3.1.4 in c:\\users\\allem\\.julia\\conda\\3\\x86_64\\lib\\site-packages (from google-auth<3,>=1.6.3->tensorboard<2.16,>=2.15->tensorflow-intel==2.15.0->tensorflow->keras-rl2) (4.9)\n",
      "Requirement already satisfied: cachetools<6.0,>=2.0.0 in c:\\users\\allem\\.julia\\conda\\3\\x86_64\\lib\\site-packages (from google-auth<3,>=1.6.3->tensorboard<2.16,>=2.15->tensorflow-intel==2.15.0->tensorflow->keras-rl2) (5.3.1)\n",
      "Requirement already satisfied: pyasn1-modules>=0.2.1 in c:\\users\\allem\\.julia\\conda\\3\\x86_64\\lib\\site-packages (from google-auth<3,>=1.6.3->tensorboard<2.16,>=2.15->tensorflow-intel==2.15.0->tensorflow->keras-rl2) (0.2.7)\n",
      "Requirement already satisfied: requests-oauthlib>=0.7.0 in c:\\users\\allem\\.julia\\conda\\3\\x86_64\\lib\\site-packages (from google-auth-oauthlib<2,>=0.5->tensorboard<2.16,>=2.15->tensorflow-intel==2.15.0->tensorflow->keras-rl2) (1.3.1)\n",
      "Requirement already satisfied: charset-normalizer<4,>=2 in c:\\users\\allem\\.julia\\conda\\3\\x86_64\\lib\\site-packages (from requests<3,>=2.21.0->tensorboard<2.16,>=2.15->tensorflow-intel==2.15.0->tensorflow->keras-rl2) (2.1.1)\n",
      "Requirement already satisfied: certifi>=2017.4.17 in c:\\users\\allem\\.julia\\conda\\3\\x86_64\\lib\\site-packages (from requests<3,>=2.21.0->tensorboard<2.16,>=2.15->tensorflow-intel==2.15.0->tensorflow->keras-rl2) (2024.2.2)\n",
      "Requirement already satisfied: idna<4,>=2.5 in c:\\users\\allem\\.julia\\conda\\3\\x86_64\\lib\\site-packages (from requests<3,>=2.21.0->tensorboard<2.16,>=2.15->tensorflow-intel==2.15.0->tensorflow->keras-rl2) (3.4)\n",
      "Requirement already satisfied: MarkupSafe>=2.1.1 in c:\\users\\allem\\.julia\\conda\\3\\x86_64\\lib\\site-packages (from werkzeug>=1.0.1->tensorboard<2.16,>=2.15->tensorflow-intel==2.15.0->tensorflow->keras-rl2) (2.1.2)\n",
      "Requirement already satisfied: pyasn1<0.5.0,>=0.4.6 in c:\\users\\allem\\.julia\\conda\\3\\x86_64\\lib\\site-packages (from pyasn1-modules>=0.2.1->google-auth<3,>=1.6.3->tensorboard<2.16,>=2.15->tensorflow-intel==2.15.0->tensorflow->keras-rl2) (0.4.8)\n",
      "Requirement already satisfied: oauthlib>=3.0.0 in c:\\users\\allem\\.julia\\conda\\3\\x86_64\\lib\\site-packages (from requests-oauthlib>=0.7.0->google-auth-oauthlib<2,>=0.5->tensorboard<2.16,>=2.15->tensorflow-intel==2.15.0->tensorflow->keras-rl2) (3.2.2)\n"
     ]
    }
   ],
   "execution_count": 3
  },
  {
   "cell_type": "code",
   "metadata": {
    "executionInfo": {
     "elapsed": 24,
     "status": "ok",
     "timestamp": 1646286468748,
     "user": {
      "displayName": "Rizwan Hamid Randhawa",
      "photoUrl": "https://lh3.googleusercontent.com/a-/AOh14GiCoBmDlAGvdCQjk-uJ2xxx1pJC0fjRsK2FcWLNdaY=s64",
      "userId": "15615777248917371178"
     },
     "user_tz": 0
    },
    "id": "ljvKEMMhp8lR",
    "ExecuteTime": {
     "end_time": "2024-09-04T09:03:33.432356Z",
     "start_time": "2024-09-04T09:03:33.418357Z"
    }
   },
   "source": [
    "# %cd /content/drive/My Drive/PhD/Development/code/RELEVAGAN\n",
    "# !ls"
   ],
   "outputs": [],
   "execution_count": 13
  },
  {
   "metadata": {
    "ExecuteTime": {
     "end_time": "2024-09-04T16:56:30.335703Z",
     "start_time": "2024-09-04T16:56:22.683292Z"
    }
   },
   "cell_type": "code",
   "source": [
    "!pip uninstall keras-rl\n",
    "!pip install keras-rl2\n"
   ],
   "outputs": [
    {
     "name": "stderr",
     "output_type": "stream",
     "text": [
      "WARNING: Skipping keras-rl as it is not installed.\n"
     ]
    },
    {
     "name": "stdout",
     "output_type": "stream",
     "text": [
      "Requirement already satisfied: keras-rl2 in c:\\users\\allem\\.julia\\conda\\3\\x86_64\\lib\\site-packages (1.0.5)\n",
      "Requirement already satisfied: tensorflow in c:\\users\\allem\\.julia\\conda\\3\\x86_64\\lib\\site-packages (from keras-rl2) (2.15.0)\n",
      "Requirement already satisfied: tensorflow-intel==2.15.0 in c:\\users\\allem\\.julia\\conda\\3\\x86_64\\lib\\site-packages (from tensorflow->keras-rl2) (2.15.0)\n",
      "Requirement already satisfied: tensorboard<2.16,>=2.15 in c:\\users\\allem\\.julia\\conda\\3\\x86_64\\lib\\site-packages (from tensorflow-intel==2.15.0->tensorflow->keras-rl2) (2.15.2)\n",
      "Requirement already satisfied: tensorflow-estimator<2.16,>=2.15.0 in c:\\users\\allem\\.julia\\conda\\3\\x86_64\\lib\\site-packages (from tensorflow-intel==2.15.0->tensorflow->keras-rl2) (2.15.0)\n",
      "Requirement already satisfied: keras<2.16,>=2.15.0 in c:\\users\\allem\\.julia\\conda\\3\\x86_64\\lib\\site-packages (from tensorflow-intel==2.15.0->tensorflow->keras-rl2) (2.15.0)\n",
      "Requirement already satisfied: termcolor>=1.1.0 in c:\\users\\allem\\.julia\\conda\\3\\x86_64\\lib\\site-packages (from tensorflow-intel==2.15.0->tensorflow->keras-rl2) (2.4.0)\n",
      "Requirement already satisfied: astunparse>=1.6.0 in c:\\users\\allem\\.julia\\conda\\3\\x86_64\\lib\\site-packages (from tensorflow-intel==2.15.0->tensorflow->keras-rl2) (1.6.3)\n",
      "Requirement already satisfied: absl-py>=1.0.0 in c:\\users\\allem\\.julia\\conda\\3\\x86_64\\lib\\site-packages (from tensorflow-intel==2.15.0->tensorflow->keras-rl2) (1.4.0)\n",
      "Requirement already satisfied: protobuf!=4.21.0,!=4.21.1,!=4.21.2,!=4.21.3,!=4.21.4,!=4.21.5,<5.0.0dev,>=3.20.3 in c:\\users\\allem\\.julia\\conda\\3\\x86_64\\lib\\site-packages (from tensorflow-intel==2.15.0->tensorflow->keras-rl2) (4.23.3)\n",
      "Requirement already satisfied: flatbuffers>=23.5.26 in c:\\users\\allem\\.julia\\conda\\3\\x86_64\\lib\\site-packages (from tensorflow-intel==2.15.0->tensorflow->keras-rl2) (23.5.26)\n",
      "Requirement already satisfied: libclang>=13.0.0 in c:\\users\\allem\\.julia\\conda\\3\\x86_64\\lib\\site-packages (from tensorflow-intel==2.15.0->tensorflow->keras-rl2) (16.0.6)\n",
      "Requirement already satisfied: wrapt<1.15,>=1.11.0 in c:\\users\\allem\\.julia\\conda\\3\\x86_64\\lib\\site-packages (from tensorflow-intel==2.15.0->tensorflow->keras-rl2) (1.14.1)\n",
      "Requirement already satisfied: packaging in c:\\users\\allem\\.julia\\conda\\3\\x86_64\\lib\\site-packages (from tensorflow-intel==2.15.0->tensorflow->keras-rl2) (23.0)\n",
      "Requirement already satisfied: numpy<2.0.0,>=1.23.5 in c:\\users\\allem\\.julia\\conda\\3\\x86_64\\lib\\site-packages (from tensorflow-intel==2.15.0->tensorflow->keras-rl2) (1.23.5)\n",
      "Requirement already satisfied: six>=1.12.0 in c:\\users\\allem\\.julia\\conda\\3\\x86_64\\lib\\site-packages (from tensorflow-intel==2.15.0->tensorflow->keras-rl2) (1.16.0)\n",
      "Requirement already satisfied: gast!=0.5.0,!=0.5.1,!=0.5.2,>=0.2.1 in c:\\users\\allem\\.julia\\conda\\3\\x86_64\\lib\\site-packages (from tensorflow-intel==2.15.0->tensorflow->keras-rl2) (0.5.4)\n",
      "Requirement already satisfied: opt-einsum>=2.3.2 in c:\\users\\allem\\.julia\\conda\\3\\x86_64\\lib\\site-packages (from tensorflow-intel==2.15.0->tensorflow->keras-rl2) (3.3.0)\n",
      "Requirement already satisfied: typing-extensions>=3.6.6 in c:\\users\\allem\\.julia\\conda\\3\\x86_64\\lib\\site-packages (from tensorflow-intel==2.15.0->tensorflow->keras-rl2) (4.11.0)\n",
      "Requirement already satisfied: google-pasta>=0.1.1 in c:\\users\\allem\\.julia\\conda\\3\\x86_64\\lib\\site-packages (from tensorflow-intel==2.15.0->tensorflow->keras-rl2) (0.2.0)\n",
      "Requirement already satisfied: ml-dtypes~=0.2.0 in c:\\users\\allem\\.julia\\conda\\3\\x86_64\\lib\\site-packages (from tensorflow-intel==2.15.0->tensorflow->keras-rl2) (0.2.0)\n",
      "Requirement already satisfied: setuptools in c:\\users\\allem\\.julia\\conda\\3\\x86_64\\lib\\site-packages (from tensorflow-intel==2.15.0->tensorflow->keras-rl2) (65.6.3)\n",
      "Requirement already satisfied: tensorflow-io-gcs-filesystem>=0.23.1 in c:\\users\\allem\\.julia\\conda\\3\\x86_64\\lib\\site-packages (from tensorflow-intel==2.15.0->tensorflow->keras-rl2) (0.31.0)\n",
      "Requirement already satisfied: h5py>=2.9.0 in c:\\users\\allem\\.julia\\conda\\3\\x86_64\\lib\\site-packages (from tensorflow-intel==2.15.0->tensorflow->keras-rl2) (3.10.0)\n",
      "Requirement already satisfied: grpcio<2.0,>=1.24.3 in c:\\users\\allem\\.julia\\conda\\3\\x86_64\\lib\\site-packages (from tensorflow-intel==2.15.0->tensorflow->keras-rl2) (1.56.0)\n",
      "Requirement already satisfied: wheel<1.0,>=0.23.0 in c:\\users\\allem\\.julia\\conda\\3\\x86_64\\lib\\site-packages (from astunparse>=1.6.0->tensorflow-intel==2.15.0->tensorflow->keras-rl2) (0.38.4)\n",
      "Requirement already satisfied: tensorboard-data-server<0.8.0,>=0.7.0 in c:\\users\\allem\\.julia\\conda\\3\\x86_64\\lib\\site-packages (from tensorboard<2.16,>=2.15->tensorflow-intel==2.15.0->tensorflow->keras-rl2) (0.7.2)\n",
      "Requirement already satisfied: google-auth<3,>=1.6.3 in c:\\users\\allem\\.julia\\conda\\3\\x86_64\\lib\\site-packages (from tensorboard<2.16,>=2.15->tensorflow-intel==2.15.0->tensorflow->keras-rl2) (2.21.0)\n",
      "Requirement already satisfied: requests<3,>=2.21.0 in c:\\users\\allem\\.julia\\conda\\3\\x86_64\\lib\\site-packages (from tensorboard<2.16,>=2.15->tensorflow-intel==2.15.0->tensorflow->keras-rl2) (2.28.2)\n",
      "Requirement already satisfied: werkzeug>=1.0.1 in c:\\users\\allem\\.julia\\conda\\3\\x86_64\\lib\\site-packages (from tensorboard<2.16,>=2.15->tensorflow-intel==2.15.0->tensorflow->keras-rl2) (2.3.6)\n",
      "Requirement already satisfied: google-auth-oauthlib<2,>=0.5 in c:\\users\\allem\\.julia\\conda\\3\\x86_64\\lib\\site-packages (from tensorboard<2.16,>=2.15->tensorflow-intel==2.15.0->tensorflow->keras-rl2) (1.2.0)\n",
      "Requirement already satisfied: markdown>=2.6.8 in c:\\users\\allem\\.julia\\conda\\3\\x86_64\\lib\\site-packages (from tensorboard<2.16,>=2.15->tensorflow-intel==2.15.0->tensorflow->keras-rl2) (3.4.3)\n",
      "Requirement already satisfied: urllib3<2.0 in c:\\users\\allem\\.julia\\conda\\3\\x86_64\\lib\\site-packages (from google-auth<3,>=1.6.3->tensorboard<2.16,>=2.15->tensorflow-intel==2.15.0->tensorflow->keras-rl2) (1.26.14)\n",
      "Requirement already satisfied: rsa<5,>=3.1.4 in c:\\users\\allem\\.julia\\conda\\3\\x86_64\\lib\\site-packages (from google-auth<3,>=1.6.3->tensorboard<2.16,>=2.15->tensorflow-intel==2.15.0->tensorflow->keras-rl2) (4.9)\n",
      "Requirement already satisfied: cachetools<6.0,>=2.0.0 in c:\\users\\allem\\.julia\\conda\\3\\x86_64\\lib\\site-packages (from google-auth<3,>=1.6.3->tensorboard<2.16,>=2.15->tensorflow-intel==2.15.0->tensorflow->keras-rl2) (5.3.1)\n",
      "Requirement already satisfied: pyasn1-modules>=0.2.1 in c:\\users\\allem\\.julia\\conda\\3\\x86_64\\lib\\site-packages (from google-auth<3,>=1.6.3->tensorboard<2.16,>=2.15->tensorflow-intel==2.15.0->tensorflow->keras-rl2) (0.2.7)\n",
      "Requirement already satisfied: requests-oauthlib>=0.7.0 in c:\\users\\allem\\.julia\\conda\\3\\x86_64\\lib\\site-packages (from google-auth-oauthlib<2,>=0.5->tensorboard<2.16,>=2.15->tensorflow-intel==2.15.0->tensorflow->keras-rl2) (1.3.1)\n",
      "Requirement already satisfied: certifi>=2017.4.17 in c:\\users\\allem\\.julia\\conda\\3\\x86_64\\lib\\site-packages (from requests<3,>=2.21.0->tensorboard<2.16,>=2.15->tensorflow-intel==2.15.0->tensorflow->keras-rl2) (2024.2.2)\n",
      "Requirement already satisfied: idna<4,>=2.5 in c:\\users\\allem\\.julia\\conda\\3\\x86_64\\lib\\site-packages (from requests<3,>=2.21.0->tensorboard<2.16,>=2.15->tensorflow-intel==2.15.0->tensorflow->keras-rl2) (3.4)\n",
      "Requirement already satisfied: charset-normalizer<4,>=2 in c:\\users\\allem\\.julia\\conda\\3\\x86_64\\lib\\site-packages (from requests<3,>=2.21.0->tensorboard<2.16,>=2.15->tensorflow-intel==2.15.0->tensorflow->keras-rl2) (2.1.1)\n",
      "Requirement already satisfied: MarkupSafe>=2.1.1 in c:\\users\\allem\\.julia\\conda\\3\\x86_64\\lib\\site-packages (from werkzeug>=1.0.1->tensorboard<2.16,>=2.15->tensorflow-intel==2.15.0->tensorflow->keras-rl2) (2.1.2)\n",
      "Requirement already satisfied: pyasn1<0.5.0,>=0.4.6 in c:\\users\\allem\\.julia\\conda\\3\\x86_64\\lib\\site-packages (from pyasn1-modules>=0.2.1->google-auth<3,>=1.6.3->tensorboard<2.16,>=2.15->tensorflow-intel==2.15.0->tensorflow->keras-rl2) (0.4.8)\n",
      "Requirement already satisfied: oauthlib>=3.0.0 in c:\\users\\allem\\.julia\\conda\\3\\x86_64\\lib\\site-packages (from requests-oauthlib>=0.7.0->google-auth-oauthlib<2,>=0.5->tensorboard<2.16,>=2.15->tensorflow-intel==2.15.0->tensorflow->keras-rl2) (3.2.2)\n"
     ]
    }
   ],
   "execution_count": 8
  },
  {
   "cell_type": "code",
   "metadata": {
    "executionInfo": {
     "elapsed": 4741,
     "status": "ok",
     "timestamp": 1646286473469,
     "user": {
      "displayName": "Rizwan Hamid Randhawa",
      "photoUrl": "https://lh3.googleusercontent.com/a-/AOh14GiCoBmDlAGvdCQjk-uJ2xxx1pJC0fjRsK2FcWLNdaY=s64",
      "userId": "15615777248917371178"
     },
     "user_tz": 0
    },
    "id": "ZlXu5pxhWj1b",
    "scrolled": true,
    "ExecuteTime": {
     "end_time": "2024-09-04T16:57:56.327850Z",
     "start_time": "2024-09-04T16:57:54.992850Z"
    }
   },
   "source": [
    "import importlib\n",
    "import header\n",
    "\n",
    "importlib.reload(header) # For reloading after making changes\n",
    "from header import *"
   ],
   "outputs": [
    {
     "ename": "ImportError",
     "evalue": "cannot import name '__version__' from 'tensorflow.keras' (C:\\Users\\allem\\.julia\\conda\\3\\x86_64\\lib\\site-packages\\keras\\api\\_v2\\keras\\__init__.py)",
     "output_type": "error",
     "traceback": [
      "\u001B[1;31m---------------------------------------------------------------------------\u001B[0m",
      "\u001B[1;31mImportError\u001B[0m                               Traceback (most recent call last)",
      "Cell \u001B[1;32mIn[10], line 2\u001B[0m\n\u001B[0;32m      1\u001B[0m \u001B[38;5;28;01mimport\u001B[39;00m \u001B[38;5;21;01mimportlib\u001B[39;00m\n\u001B[1;32m----> 2\u001B[0m \u001B[38;5;28;01mimport\u001B[39;00m \u001B[38;5;21;01mheader\u001B[39;00m\n\u001B[0;32m      4\u001B[0m importlib\u001B[38;5;241m.\u001B[39mreload(header) \u001B[38;5;66;03m# For reloading after making changes\u001B[39;00m\n\u001B[0;32m      5\u001B[0m \u001B[38;5;28;01mfrom\u001B[39;00m \u001B[38;5;21;01mheader\u001B[39;00m \u001B[38;5;28;01mimport\u001B[39;00m \u001B[38;5;241m*\u001B[39m\n",
      "File \u001B[1;32m~\\DataspellProjects\\RELEVAGAN\\header.py:247\u001B[0m\n\u001B[0;32m    243\u001B[0m uGAN_aug_f1_list \u001B[38;5;241m=\u001B[39m []\n\u001B[0;32m    244\u001B[0m GAN_aug_f1_list \u001B[38;5;241m=\u001B[39m []\n\u001B[1;32m--> 247\u001B[0m \u001B[38;5;28;01mimport\u001B[39;00m \u001B[38;5;21;01mpreprocess\u001B[39;00m\n\u001B[0;32m    248\u001B[0m \u001B[38;5;28;01mimport\u001B[39;00m \u001B[38;5;21;01mimportlib\u001B[39;00m\n\u001B[0;32m    250\u001B[0m importlib\u001B[38;5;241m.\u001B[39mreload(preprocess)  \u001B[38;5;66;03m# For reloading after making changes\u001B[39;00m\n",
      "File \u001B[1;32m~\\DataspellProjects\\RELEVAGAN\\preprocess.py:4\u001B[0m\n\u001B[0;32m      1\u001B[0m \u001B[38;5;28;01mimport\u001B[39;00m \u001B[38;5;21;01mheader\u001B[39;00m\n\u001B[0;32m      2\u001B[0m \u001B[38;5;28;01mimport\u001B[39;00m \u001B[38;5;21;01mimportlib\u001B[39;00m\n\u001B[1;32m----> 4\u001B[0m \u001B[43mimportlib\u001B[49m\u001B[38;5;241;43m.\u001B[39;49m\u001B[43mreload\u001B[49m\u001B[43m(\u001B[49m\u001B[43mheader\u001B[49m\u001B[43m)\u001B[49m  \u001B[38;5;66;03m# For reloading after making changes\u001B[39;00m\n\u001B[0;32m      5\u001B[0m \u001B[38;5;28;01mfrom\u001B[39;00m \u001B[38;5;21;01mheader\u001B[39;00m \u001B[38;5;28;01mimport\u001B[39;00m \u001B[38;5;241m*\u001B[39m\n\u001B[0;32m      8\u001B[0m \u001B[38;5;28;01mimport\u001B[39;00m \u001B[38;5;21;01mnumpy\u001B[39;00m \u001B[38;5;28;01mas\u001B[39;00m \u001B[38;5;21;01mnp\u001B[39;00m\n",
      "File \u001B[1;32m~\\.julia\\conda\\3\\x86_64\\lib\\importlib\\__init__.py:169\u001B[0m, in \u001B[0;36mreload\u001B[1;34m(module)\u001B[0m\n\u001B[0;32m    167\u001B[0m \u001B[38;5;28;01mif\u001B[39;00m spec \u001B[38;5;129;01mis\u001B[39;00m \u001B[38;5;28;01mNone\u001B[39;00m:\n\u001B[0;32m    168\u001B[0m     \u001B[38;5;28;01mraise\u001B[39;00m \u001B[38;5;167;01mModuleNotFoundError\u001B[39;00m(\u001B[38;5;124mf\u001B[39m\u001B[38;5;124m\"\u001B[39m\u001B[38;5;124mspec not found for the module \u001B[39m\u001B[38;5;132;01m{\u001B[39;00mname\u001B[38;5;132;01m!r}\u001B[39;00m\u001B[38;5;124m\"\u001B[39m, name\u001B[38;5;241m=\u001B[39mname)\n\u001B[1;32m--> 169\u001B[0m \u001B[43m_bootstrap\u001B[49m\u001B[38;5;241;43m.\u001B[39;49m\u001B[43m_exec\u001B[49m\u001B[43m(\u001B[49m\u001B[43mspec\u001B[49m\u001B[43m,\u001B[49m\u001B[43m \u001B[49m\u001B[43mmodule\u001B[49m\u001B[43m)\u001B[49m\n\u001B[0;32m    170\u001B[0m \u001B[38;5;66;03m# The module may have replaced itself in sys.modules!\u001B[39;00m\n\u001B[0;32m    171\u001B[0m \u001B[38;5;28;01mreturn\u001B[39;00m sys\u001B[38;5;241m.\u001B[39mmodules[name]\n",
      "File \u001B[1;32m~\\DataspellProjects\\RELEVAGAN\\header.py:288\u001B[0m\n\u001B[0;32m    283\u001B[0m \u001B[38;5;28;01mfrom\u001B[39;00m \u001B[38;5;21;01msklearn\u001B[39;00m\u001B[38;5;21;01m.\u001B[39;00m\u001B[38;5;21;01mimpute\u001B[39;00m \u001B[38;5;28;01mimport\u001B[39;00m SimpleImputer\n\u001B[0;32m    285\u001B[0m plt\u001B[38;5;241m.\u001B[39mstyle\u001B[38;5;241m.\u001B[39muse(\u001B[38;5;124m\"\u001B[39m\u001B[38;5;124mseaborn-white\u001B[39m\u001B[38;5;124m\"\u001B[39m)\n\u001B[1;32m--> 288\u001B[0m \u001B[38;5;28;01mfrom\u001B[39;00m \u001B[38;5;21;01mrl\u001B[39;00m\u001B[38;5;21;01m.\u001B[39;00m\u001B[38;5;21;01magents\u001B[39;00m \u001B[38;5;28;01mimport\u001B[39;00m DQNAgent\n\u001B[0;32m    289\u001B[0m \u001B[38;5;28;01mfrom\u001B[39;00m \u001B[38;5;21;01mrl\u001B[39;00m\u001B[38;5;21;01m.\u001B[39;00m\u001B[38;5;21;01mpolicy\u001B[39;00m \u001B[38;5;28;01mimport\u001B[39;00m BoltzmannQPolicy\n\u001B[0;32m    290\u001B[0m \u001B[38;5;28;01mfrom\u001B[39;00m \u001B[38;5;21;01mrl\u001B[39;00m\u001B[38;5;21;01m.\u001B[39;00m\u001B[38;5;21;01mmemory\u001B[39;00m \u001B[38;5;28;01mimport\u001B[39;00m SequentialMemory\n",
      "File \u001B[1;32m~\\.julia\\conda\\3\\x86_64\\lib\\site-packages\\rl\\agents\\__init__.py:1\u001B[0m\n\u001B[1;32m----> 1\u001B[0m \u001B[38;5;28;01mfrom\u001B[39;00m \u001B[38;5;21;01m.\u001B[39;00m\u001B[38;5;21;01mdqn\u001B[39;00m \u001B[38;5;28;01mimport\u001B[39;00m DQNAgent, NAFAgent, ContinuousDQNAgent\n\u001B[0;32m      2\u001B[0m \u001B[38;5;28;01mfrom\u001B[39;00m \u001B[38;5;21;01m.\u001B[39;00m\u001B[38;5;21;01mddpg\u001B[39;00m \u001B[38;5;28;01mimport\u001B[39;00m DDPGAgent\n\u001B[0;32m      3\u001B[0m \u001B[38;5;28;01mfrom\u001B[39;00m \u001B[38;5;21;01m.\u001B[39;00m\u001B[38;5;21;01mcem\u001B[39;00m \u001B[38;5;28;01mimport\u001B[39;00m CEMAgent\n",
      "File \u001B[1;32m~\\.julia\\conda\\3\\x86_64\\lib\\site-packages\\rl\\agents\\dqn.py:7\u001B[0m\n\u001B[0;32m      4\u001B[0m \u001B[38;5;28;01mfrom\u001B[39;00m \u001B[38;5;21;01mtensorflow\u001B[39;00m\u001B[38;5;21;01m.\u001B[39;00m\u001B[38;5;21;01mkeras\u001B[39;00m\u001B[38;5;21;01m.\u001B[39;00m\u001B[38;5;21;01mmodels\u001B[39;00m \u001B[38;5;28;01mimport\u001B[39;00m Model\n\u001B[0;32m      5\u001B[0m \u001B[38;5;28;01mfrom\u001B[39;00m \u001B[38;5;21;01mtensorflow\u001B[39;00m\u001B[38;5;21;01m.\u001B[39;00m\u001B[38;5;21;01mkeras\u001B[39;00m\u001B[38;5;21;01m.\u001B[39;00m\u001B[38;5;21;01mlayers\u001B[39;00m \u001B[38;5;28;01mimport\u001B[39;00m Lambda, Input, Layer, Dense\n\u001B[1;32m----> 7\u001B[0m \u001B[38;5;28;01mfrom\u001B[39;00m \u001B[38;5;21;01mrl\u001B[39;00m\u001B[38;5;21;01m.\u001B[39;00m\u001B[38;5;21;01mcore\u001B[39;00m \u001B[38;5;28;01mimport\u001B[39;00m Agent\n\u001B[0;32m      8\u001B[0m \u001B[38;5;28;01mfrom\u001B[39;00m \u001B[38;5;21;01mrl\u001B[39;00m\u001B[38;5;21;01m.\u001B[39;00m\u001B[38;5;21;01mpolicy\u001B[39;00m \u001B[38;5;28;01mimport\u001B[39;00m EpsGreedyQPolicy, GreedyQPolicy\n\u001B[0;32m      9\u001B[0m \u001B[38;5;28;01mfrom\u001B[39;00m \u001B[38;5;21;01mrl\u001B[39;00m\u001B[38;5;21;01m.\u001B[39;00m\u001B[38;5;21;01mutil\u001B[39;00m \u001B[38;5;28;01mimport\u001B[39;00m \u001B[38;5;241m*\u001B[39m\n",
      "File \u001B[1;32m~\\.julia\\conda\\3\\x86_64\\lib\\site-packages\\rl\\core.py:7\u001B[0m\n\u001B[0;32m      4\u001B[0m \u001B[38;5;28;01mimport\u001B[39;00m \u001B[38;5;21;01mnumpy\u001B[39;00m \u001B[38;5;28;01mas\u001B[39;00m \u001B[38;5;21;01mnp\u001B[39;00m\n\u001B[0;32m      5\u001B[0m \u001B[38;5;28;01mfrom\u001B[39;00m \u001B[38;5;21;01mtensorflow\u001B[39;00m\u001B[38;5;21;01m.\u001B[39;00m\u001B[38;5;21;01mkeras\u001B[39;00m\u001B[38;5;21;01m.\u001B[39;00m\u001B[38;5;21;01mcallbacks\u001B[39;00m \u001B[38;5;28;01mimport\u001B[39;00m History\n\u001B[1;32m----> 7\u001B[0m \u001B[38;5;28;01mfrom\u001B[39;00m \u001B[38;5;21;01mrl\u001B[39;00m\u001B[38;5;21;01m.\u001B[39;00m\u001B[38;5;21;01mcallbacks\u001B[39;00m \u001B[38;5;28;01mimport\u001B[39;00m (\n\u001B[0;32m      8\u001B[0m     CallbackList,\n\u001B[0;32m      9\u001B[0m     TestLogger,\n\u001B[0;32m     10\u001B[0m     TrainEpisodeLogger,\n\u001B[0;32m     11\u001B[0m     TrainIntervalLogger,\n\u001B[0;32m     12\u001B[0m     Visualizer\n\u001B[0;32m     13\u001B[0m )\n\u001B[0;32m     16\u001B[0m \u001B[38;5;28;01mclass\u001B[39;00m \u001B[38;5;21;01mAgent\u001B[39;00m:\n\u001B[0;32m     17\u001B[0m \u001B[38;5;250m    \u001B[39m\u001B[38;5;124;03m\"\"\"Abstract base class for all implemented agents.\u001B[39;00m\n\u001B[0;32m     18\u001B[0m \n\u001B[0;32m     19\u001B[0m \u001B[38;5;124;03m    Each agent interacts with the environment (as defined by the `Env` class) by first observing the\u001B[39;00m\n\u001B[1;32m   (...)\u001B[0m\n\u001B[0;32m     37\u001B[0m \u001B[38;5;124;03m        processor (`Processor` instance): See [Processor](#processor) for details.\u001B[39;00m\n\u001B[0;32m     38\u001B[0m \u001B[38;5;124;03m    \"\"\"\u001B[39;00m\n",
      "File \u001B[1;32m~\\.julia\\conda\\3\\x86_64\\lib\\site-packages\\rl\\callbacks.py:8\u001B[0m\n\u001B[0;32m      6\u001B[0m \u001B[38;5;28;01mimport\u001B[39;00m \u001B[38;5;21;01mnumpy\u001B[39;00m \u001B[38;5;28;01mas\u001B[39;00m \u001B[38;5;21;01mnp\u001B[39;00m\n\u001B[0;32m      7\u001B[0m \u001B[38;5;28;01mimport\u001B[39;00m \u001B[38;5;21;01mtensorflow\u001B[39;00m \u001B[38;5;28;01mas\u001B[39;00m \u001B[38;5;21;01mtf\u001B[39;00m\n\u001B[1;32m----> 8\u001B[0m \u001B[38;5;28;01mfrom\u001B[39;00m \u001B[38;5;21;01mtensorflow\u001B[39;00m\u001B[38;5;21;01m.\u001B[39;00m\u001B[38;5;21;01mkeras\u001B[39;00m \u001B[38;5;28;01mimport\u001B[39;00m __version__ \u001B[38;5;28;01mas\u001B[39;00m KERAS_VERSION\n\u001B[0;32m      9\u001B[0m \u001B[38;5;28;01mfrom\u001B[39;00m \u001B[38;5;21;01mtensorflow\u001B[39;00m\u001B[38;5;21;01m.\u001B[39;00m\u001B[38;5;21;01mpython\u001B[39;00m\u001B[38;5;21;01m.\u001B[39;00m\u001B[38;5;21;01mkeras\u001B[39;00m\u001B[38;5;21;01m.\u001B[39;00m\u001B[38;5;21;01mcallbacks\u001B[39;00m \u001B[38;5;28;01mimport\u001B[39;00m Callback \u001B[38;5;28;01mas\u001B[39;00m KerasCallback, CallbackList \u001B[38;5;28;01mas\u001B[39;00m KerasCallbackList\n\u001B[0;32m     10\u001B[0m \u001B[38;5;28;01mfrom\u001B[39;00m \u001B[38;5;21;01mtensorflow\u001B[39;00m\u001B[38;5;21;01m.\u001B[39;00m\u001B[38;5;21;01mpython\u001B[39;00m\u001B[38;5;21;01m.\u001B[39;00m\u001B[38;5;21;01mkeras\u001B[39;00m\u001B[38;5;21;01m.\u001B[39;00m\u001B[38;5;21;01mutils\u001B[39;00m\u001B[38;5;21;01m.\u001B[39;00m\u001B[38;5;21;01mgeneric_utils\u001B[39;00m \u001B[38;5;28;01mimport\u001B[39;00m Progbar\n",
      "\u001B[1;31mImportError\u001B[0m: cannot import name '__version__' from 'tensorflow.keras' (C:\\Users\\allem\\.julia\\conda\\3\\x86_64\\lib\\site-packages\\keras\\api\\_v2\\keras\\__init__.py)"
     ]
    }
   ],
   "execution_count": 10
  },
  {
   "cell_type": "markdown",
   "metadata": {
    "collapsed": true,
    "id": "aQkaphklFIYW"
   },
   "source": [
    "<a id=\"CGAN\"><h1>Select GAN and Dataset and Flags</h1></a>"
   ]
  },
  {
   "cell_type": "code",
   "metadata": {
    "executionInfo": {
     "elapsed": 34,
     "status": "ok",
     "timestamp": 1646286473470,
     "user": {
      "displayName": "Rizwan Hamid Randhawa",
      "photoUrl": "https://lh3.googleusercontent.com/a-/AOh14GiCoBmDlAGvdCQjk-uJ2xxx1pJC0fjRsK2FcWLNdaY=s64",
      "userId": "15615777248917371178"
     },
     "user_tz": 0
    },
    "id": "kPfnVUMHWj1h",
    "ExecuteTime": {
     "end_time": "2024-09-04T09:03:33.512357Z",
     "start_time": "2024-09-04T09:03:33.512357Z"
    }
   },
   "source": [
    "GAN_type = 'RELEVAGAN_CC'\n",
    "# GAN_type = 'ACGAN_CV'\n",
    "# GAN_type = 'EVAGAN_CV'\n",
    "\n",
    "\n",
    "# DATA_SET = 'ISCX-2014'\n",
    "# DATA_SET = 'CIC-2017'\n",
    "DATA_SET = 'CIC-2018'"
   ],
   "outputs": [],
   "execution_count": null
  },
  {
   "cell_type": "markdown",
   "metadata": {
    "id": "4zsYaqGjWj1j"
   },
   "source": [
    "<a id=\"GPU Settings\"><h2>Set Flags</h2></a>"
   ]
  },
  {
   "cell_type": "code",
   "metadata": {
    "executionInfo": {
     "elapsed": 31,
     "status": "ok",
     "timestamp": 1646286473471,
     "user": {
      "displayName": "Rizwan Hamid Randhawa",
      "photoUrl": "https://lh3.googleusercontent.com/a-/AOh14GiCoBmDlAGvdCQjk-uJ2xxx1pJC0fjRsK2FcWLNdaY=s64",
      "userId": "15615777248917371178"
     },
     "user_tz": 0
    },
    "id": "S1cf7rM3Wj1k"
   },
   "source": [
    "begin_from_start = 1\n",
    "take_chunk = 0\n",
    "required_epochs = 150\n",
    "\n",
    "DISPLAY_FEATURES = 0\n",
    "EVALUATION_PARAMETER = 'Accuracy'\n",
    "SAVE_ONLY_BOT_DATA = 0\n",
    "USE_KMEANS_FOR_CLASSIFICATION = 1\n",
    "\n",
    "BALANCE_THE_DATASET = 1\n",
    "\n",
    "labels =[]\n",
    "\n",
    "USE_ONLY_TRAIN_SET = 1\n",
    "\n",
    "USE_ALL_CLASSIFIERS = 0\n",
    "\n",
    "ACCU_EVAL_TEST = 0\n",
    "RCL_EVAL_TEST = 0\n",
    "\n",
    "VISUAL_TEST_OVERLAPPING = 1\n",
    "\n",
    "CSV_ONE_BOT = 0\n",
    "\n",
    "VIEW_ALL_BOTS = 0\n",
    "\n",
    "CTU_NERIS = 0\n",
    "\n",
    "SINGLE_WEIGHT_CLASSIFIER_TEST_C2ST = 0\n",
    "SINGLE_WEIGHT_CLASSIFIER_TEST_PROPOSED_METHODOLOGY = 0\n",
    "\n",
    "C2ST_BLACK_BOX_TEST = 0\n",
    "BOTSHOT_BLACK_BOX_TEST = 0\n",
    "\n",
    "C2ST_BLACK_BOX_TEST_AFTER_GAN_TRAINING = 0\n",
    "BOTSHOT_BLACK_BOX_TEST_AFTER_GAN_TRAINING = 0\n",
    "\n",
    "GENERATE_OTHERS_DATA = 1"
   ],
   "outputs": [],
   "execution_count": null
  },
  {
   "cell_type": "markdown",
   "metadata": {
    "id": "gbFYC_WQWj1n"
   },
   "source": [
    "<a id=\"CGAN\"><h1>Set Paths</h1></a>"
   ]
  },
  {
   "cell_type": "code",
   "metadata": {
    "executionInfo": {
     "elapsed": 30,
     "status": "ok",
     "timestamp": 1646286473472,
     "user": {
      "displayName": "Rizwan Hamid Randhawa",
      "photoUrl": "https://lh3.googleusercontent.com/a-/AOh14GiCoBmDlAGvdCQjk-uJ2xxx1pJC0fjRsK2FcWLNdaY=s64",
      "userId": "15615777248917371178"
     },
     "user_tz": 0
    },
    "id": "8Al8rt2iWj1p"
   },
   "source": [
    "MAIN_CODE_PATH = os.getcwd()"
   ],
   "outputs": [],
   "execution_count": null
  },
  {
   "cell_type": "code",
   "metadata": {
    "executionInfo": {
     "elapsed": 27,
     "status": "ok",
     "timestamp": 1646286473472,
     "user": {
      "displayName": "Rizwan Hamid Randhawa",
      "photoUrl": "https://lh3.googleusercontent.com/a-/AOh14GiCoBmDlAGvdCQjk-uJ2xxx1pJC0fjRsK2FcWLNdaY=s64",
      "userId": "15615777248917371178"
     },
     "user_tz": 0
    },
    "id": "WrizUpKsYxel"
   },
   "source": [
    "DATA_SET_PATH = MAIN_CODE_PATH + '/Dataset/' +  DATA_SET + '/'\n",
    "CACHE_PATH = MAIN_CODE_PATH + '/cache/' + GAN_type + '/'\n",
    "FIGS_PATH = MAIN_CODE_PATH  + '/figs/' + GAN_type + '/'"
   ],
   "outputs": [],
   "execution_count": null
  },
  {
   "cell_type": "code",
   "metadata": {
    "colab": {
     "base_uri": "https://localhost:8080/"
    },
    "executionInfo": {
     "elapsed": 27,
     "status": "ok",
     "timestamp": 1646286473473,
     "user": {
      "displayName": "Rizwan Hamid Randhawa",
      "photoUrl": "https://lh3.googleusercontent.com/a-/AOh14GiCoBmDlAGvdCQjk-uJ2xxx1pJC0fjRsK2FcWLNdaY=s64",
      "userId": "15615777248917371178"
     },
     "user_tz": 0
    },
    "id": "yT1YS8U9Wj1t",
    "outputId": "e4079158-267c-4b8c-f6c5-241c2570f61b",
    "scrolled": true
   },
   "source": [
    "print(DATA_SET_PATH)\n",
    "print(CACHE_PATH)\n",
    "print(FIGS_PATH)"
   ],
   "outputs": [],
   "execution_count": null
  },
  {
   "cell_type": "markdown",
   "metadata": {
    "id": "IwGuWbiSWj1y"
   },
   "source": [
    "<a id=\"GPU Settings\"><h2>Check Available GPUs</h2></a>"
   ]
  },
  {
   "cell_type": "code",
   "metadata": {
    "colab": {
     "base_uri": "https://localhost:8080/"
    },
    "executionInfo": {
     "elapsed": 24,
     "status": "ok",
     "timestamp": 1646286473474,
     "user": {
      "displayName": "Rizwan Hamid Randhawa",
      "photoUrl": "https://lh3.googleusercontent.com/a-/AOh14GiCoBmDlAGvdCQjk-uJ2xxx1pJC0fjRsK2FcWLNdaY=s64",
      "userId": "15615777248917371178"
     },
     "user_tz": 0
    },
    "id": "jwQXSblnWj10",
    "outputId": "6dc71bbf-2f29-444d-83ae-66148060c55e"
   },
   "source": [
    "import tensorflow as tf\n",
    "print(\"Num GPUs Available: \", len(tf.config.experimental.list_physical_devices('GPU')))"
   ],
   "outputs": [],
   "execution_count": null
  },
  {
   "cell_type": "markdown",
   "metadata": {
    "id": "ZzSPR7q5Wj11"
   },
   "source": [
    "<a id=\"GPU Settings\"><h2>Import Dataset</h2></a>"
   ]
  },
  {
   "cell_type": "code",
   "metadata": {
    "colab": {
     "base_uri": "https://localhost:8080/"
    },
    "executionInfo": {
     "elapsed": 21,
     "status": "ok",
     "timestamp": 1646286473475,
     "user": {
      "displayName": "Rizwan Hamid Randhawa",
      "photoUrl": "https://lh3.googleusercontent.com/a-/AOh14GiCoBmDlAGvdCQjk-uJ2xxx1pJC0fjRsK2FcWLNdaY=s64",
      "userId": "15615777248917371178"
     },
     "user_tz": 0
    },
    "id": "w0MQAWmiWj12",
    "outputId": "82533b26-0223-4159-9f62-b488faf6f8c0"
   },
   "source": [
    "%cd $DATA_SET_PATH\n",
    "!ls"
   ],
   "outputs": [],
   "execution_count": null
  },
  {
   "cell_type": "code",
   "metadata": {
    "colab": {
     "base_uri": "https://localhost:8080/"
    },
    "executionInfo": {
     "elapsed": 5361,
     "status": "ok",
     "timestamp": 1646286478822,
     "user": {
      "displayName": "Rizwan Hamid Randhawa",
      "photoUrl": "https://lh3.googleusercontent.com/a-/AOh14GiCoBmDlAGvdCQjk-uJ2xxx1pJC0fjRsK2FcWLNdaY=s64",
      "userId": "15615777248917371178"
     },
     "user_tz": 0
    },
    "id": "NIJpUfZdWj15",
    "outputId": "f289caa0-4318-4fca-f55a-3a16e3bd78e8",
    "scrolled": false
   },
   "source": [
    "if begin_from_start:        \n",
    "\n",
    "    if DATA_SET == 'ISCX-2014':\n",
    "        training_data = prepare_ISCX_2014_data(PATH = DATA_SET_PATH, INPUT_FILE_NAME = r'ISCX_Botnet-Training.pcap_Flow.csv')       \n",
    "    \n",
    "    elif DATA_SET == 'CIC-2017':\n",
    "        training_data = prepare_cic_2017_data(PATH = DATA_SET_PATH, INPUT_FILE_NAME = r'CIC_Friday_bot.csv')\n",
    "                \n",
    "    elif DATA_SET == 'CIC-2018':\n",
    "        training_data = prepare_cic_2018_data(PATH = DATA_SET_PATH, INPUT_FILE_NAME = r'Friday-02-03-2018_TrafficForML_CICFlowMeter.csv')\n",
    "                \n",
    "    elif DATA_SET == 'UNSW_BotIoT':\n",
    "        training_data = prepare_UNSW_IoT(PATH = DATA_SET_PATH, INPUT_FILE_NAME = r'UNSW_2018_IoT_Botnet_Final_10_best_Training.csv')\n",
    "                \n",
    "    elif DATA_SET == 'Darknet':\n",
    "        training_data = prepare_DARKNET_2020_data(PATH = DATA_SET_PATH, INPUT_FILE_NAME = r'Darknet.csv')\n",
    "        \n",
    "\n",
    "    print('Dataset preprocessed: ' + DATA_SET)\n",
    "    \n",
    "else:\n",
    "\n",
    "    if DATA_SET == 'ISCX-2014':\n",
    "        INPUT_TRAINING_FILE_NAME = r'ISCX_Botnet-Training.pcap_Flow.csv_VIRUT'        \n",
    "        \n",
    "    elif DATA_SET == 'CIC-2017':\n",
    "        INPUT_TRAINING_FILE_NAME = r'CIC_Friday_bot.csv'  \n",
    "        \n",
    "    elif DATA_SET == 'CIC-2018':\n",
    "        INPUT_TRAINING_FILE_NAME = r'Friday-02-03-2018_TrafficForML_CICFlowMeter.csv'       \n",
    "        \n",
    "    elif DATA_SET == 'BoT-IoT':\n",
    "        INPUT_TRAINING_FILE_NAME = r'UNSW_2018_IoT_Botnet_Final_10_best_Training.csv'       \n",
    "        \n",
    "    elif DATA_SET == 'Drebin':\n",
    "        INPUT_TRAINING_FILE_NAME = r'Drebin_API_Dataset.csv'                \n",
    "        \n",
    "    elif DATA_SET == 'Darknet':\n",
    "        INPUT_TRAINING_FILE_NAME = r'Darknet.csv'        \n",
    "\n",
    "    training_data = pd.read_csv (INPUT_TRAINING_FILE_NAME + '_(Preprocessed).csv', low_memory=False)\n",
    "    training_data= training_data.drop(['Unnamed: 0'], axis=1)\n",
    "    \n",
    "    print('Dataset Imported: ' + DATA_SET)\n",
    "    print('Training set: '+ str(training_data.shape)) \n"
   ],
   "outputs": [],
   "execution_count": null
  },
  {
   "cell_type": "code",
   "metadata": {
    "colab": {
     "base_uri": "https://localhost:8080/"
    },
    "executionInfo": {
     "elapsed": 1432,
     "status": "ok",
     "timestamp": 1646286480246,
     "user": {
      "displayName": "Rizwan Hamid Randhawa",
      "photoUrl": "https://lh3.googleusercontent.com/a-/AOh14GiCoBmDlAGvdCQjk-uJ2xxx1pJC0fjRsK2FcWLNdaY=s64",
      "userId": "15615777248917371178"
     },
     "user_tz": 0
    },
    "id": "eg83hsWRWj16",
    "outputId": "b66f50cf-7738-4ab5-8c7b-e1dcaa61ddff"
   },
   "source": [
    "training_data = training_data.replace([np.inf, -np.inf], np.nan).dropna(how=\"any\").reset_index(drop=True)\n",
    "print(training_data.describe())"
   ],
   "outputs": [],
   "execution_count": null
  },
  {
   "cell_type": "markdown",
   "metadata": {
    "id": "h5phnoDzWj17"
   },
   "source": [
    "<a id=\"GPU Settings\"><h2>Display Features</h2></a>"
   ]
  },
  {
   "cell_type": "code",
   "metadata": {
    "executionInfo": {
     "elapsed": 39,
     "status": "ok",
     "timestamp": 1646286480247,
     "user": {
      "displayName": "Rizwan Hamid Randhawa",
      "photoUrl": "https://lh3.googleusercontent.com/a-/AOh14GiCoBmDlAGvdCQjk-uJ2xxx1pJC0fjRsK2FcWLNdaY=s64",
      "userId": "15615777248917371178"
     },
     "user_tz": 0
    },
    "id": "aePYFbaoWj17",
    "scrolled": false
   },
   "source": [
    "if DISPLAY_FEATURES: \n",
    "    unified_df = training_data.copy()\n",
    "    X_cols = unified_df.columns[:-1]\n",
    "    y_cols = unified_df.columns[-1]\n",
    "\n",
    "\n",
    "\n",
    "    axarr = [[]]*len(X_cols)\n",
    "    columns = 4\n",
    "    rows = int( np.ceil( len(X_cols) / columns ) )\n",
    "    f, fig = plt.subplots( figsize=(columns*2.5, rows*2) )\n",
    "\n",
    "    f.suptitle('Data Distributions by Feature and Label', size=16)\n",
    "\n",
    "    for i, col in enumerate(X_cols[:]):\n",
    "        axarr[i] = plt.subplot2grid( (int(rows), int(columns)), (int(i//columns), int(i%columns)) )\n",
    "\n",
    "\n",
    "        axarr[i].hist( unified_df.loc[ unified_df.Label == 0, col ] , label=['Normal'], color=('#009933'), alpha=0.5,\n",
    "                              bins=np.linspace( np.percentile(unified_df[col],0), np.percentile(unified_df[col],100),50 ),\n",
    "                              density=True )\n",
    "\n",
    "        axarr[i].hist( unified_df.loc[ unified_df.Label == 1, col ] , label=['Real Bot'], color=['#FF0000'], alpha=0.5,\n",
    "                              bins=np.linspace( np.percentile(unified_df[col],0), np.percentile(unified_df[col],100),50 ),\n",
    "                              density=True )\n",
    "\n",
    "        axarr[i].set_xlabel(col, size=12)\n",
    "    #     axarr[i].set_ylim([0,1])\n",
    "        axarr[i].tick_params(axis='both', labelsize=10)\n",
    "        if i == 0: \n",
    "            legend = axarr[i].legend()\n",
    "            legend.get_frame().set_facecolor('white')\n",
    "        if i%4 != 0 : \n",
    "            axarr[i].tick_params(axis='y', left=True, labelleft=True)\n",
    "        else:\n",
    "            axarr[i].set_ylabel('Fraction',size=12)\n",
    "\n",
    "    plt.tight_layout(rect=[0,0,1,0.95]) # xmin, ymin, xmax, ymax\n",
    "    # plt.savefig('plots/Engineered_Data_Distributions.png')\n",
    "\n",
    "    plt.show()\n",
    "    \n",
    "# else: \n",
    "#     print('Pair Plotting..')\n",
    "# #     sns.pairplot(training_data, hue=\"Label\")\n",
    "    \n",
    "#     sns.pairplot(training_data, vars=['Flow Duration', 'Total Fwd Packet', 'Total Bwd packets',\n",
    "#        'Total Length of Fwd Packet', 'Total Length of Bwd Packet'], hue=\"Label\")\n",
    "    \n",
    "#     sns.pairplot(penguins, hue=\"species\", markers=[\"o\", \"s\", \"D\"])"
   ],
   "outputs": [],
   "execution_count": null
  },
  {
   "cell_type": "markdown",
   "metadata": {
    "id": "pD-Hq093Wj18"
   },
   "source": [
    "<a id=\"GPU Settings\"><h2>Select Botnet</h2></a>"
   ]
  },
  {
   "cell_type": "code",
   "metadata": {
    "colab": {
     "base_uri": "https://localhost:8080/"
    },
    "executionInfo": {
     "elapsed": 36,
     "status": "ok",
     "timestamp": 1646286480248,
     "user": {
      "displayName": "Rizwan Hamid Randhawa",
      "photoUrl": "https://lh3.googleusercontent.com/a-/AOh14GiCoBmDlAGvdCQjk-uJ2xxx1pJC0fjRsK2FcWLNdaY=s64",
      "userId": "15615777248917371178"
     },
     "user_tz": 0
    },
    "id": "jMdckAGdWj19",
    "outputId": "46fe73e9-a31e-4ad2-ad93-1365278c0e6f",
    "scrolled": true
   },
   "source": [
    "normal = training_data.loc[ training_data['Label']==1 ].copy()\n",
    "bots = training_data.loc[ training_data['Label']==0 ].copy()\n",
    "\n",
    "print('Normal before chunk: ' + str(normal.shape))    \n",
    "print('Real Bots before chunk: ' + str(bots.shape)) \n",
    "\n",
    "if take_chunk:\n",
    "    bots = bots[0:512]\n",
    "    \n",
    "print('Normal: ' + str(normal.shape))    \n",
    "print('Real Bots: ' + str(bots.shape)) "
   ],
   "outputs": [],
   "execution_count": null
  },
  {
   "cell_type": "code",
   "metadata": {
    "executionInfo": {
     "elapsed": 23,
     "status": "ok",
     "timestamp": 1646286480249,
     "user": {
      "displayName": "Rizwan Hamid Randhawa",
      "photoUrl": "https://lh3.googleusercontent.com/a-/AOh14GiCoBmDlAGvdCQjk-uJ2xxx1pJC0fjRsK2FcWLNdaY=s64",
      "userId": "15615777248917371178"
     },
     "user_tz": 0
    },
    "id": "WEv9Tz5AWj1-"
   },
   "source": [
    "Train = training_data.copy()"
   ],
   "outputs": [],
   "execution_count": null
  },
  {
   "cell_type": "code",
   "metadata": {
    "colab": {
     "base_uri": "https://localhost:8080/"
    },
    "executionInfo": {
     "elapsed": 22,
     "status": "ok",
     "timestamp": 1646286480250,
     "user": {
      "displayName": "Rizwan Hamid Randhawa",
      "photoUrl": "https://lh3.googleusercontent.com/a-/AOh14GiCoBmDlAGvdCQjk-uJ2xxx1pJC0fjRsK2FcWLNdaY=s64",
      "userId": "15615777248917371178"
     },
     "user_tz": 0
    },
    "id": "8TrvNDY3Wj1-",
    "outputId": "fe3d432c-995f-469a-e6e6-b26bacf6ccb7",
    "scrolled": false
   },
   "source": [
    "bots_count =  pd.DataFrame( [ [np.sum(bots['Label']==i)] for i in np.unique(bots['Label']) ], columns=['count'], index=np.unique(bots['Label']) )\n",
    "\n",
    "label_cols = [ i for i in bots.columns if 'Label' in i ]\n",
    "data_cols = [ i for i in bots.columns if i not in label_cols ]\n",
    "\n",
    "train_no_label = bots[ data_cols ].reset_index(drop=True)\n",
    "\n",
    "print(bots_count['count'])"
   ],
   "outputs": [],
   "execution_count": null
  },
  {
   "cell_type": "code",
   "metadata": {
    "executionInfo": {
     "elapsed": 766,
     "status": "ok",
     "timestamp": 1646286481004,
     "user": {
      "displayName": "Rizwan Hamid Randhawa",
      "photoUrl": "https://lh3.googleusercontent.com/a-/AOh14GiCoBmDlAGvdCQjk-uJ2xxx1pJC0fjRsK2FcWLNdaY=s64",
      "userId": "15615777248917371178"
     },
     "user_tz": 0
    },
    "id": "uKyFTGYfWj1_"
   },
   "source": [
    "train_data = bots"
   ],
   "outputs": [],
   "execution_count": null
  },
  {
   "cell_type": "markdown",
   "metadata": {
    "id": "K_5UjRLxWj2B"
   },
   "source": [
    "<a id=\"Classification\"><h1>Classification</h1></a>"
   ]
  },
  {
   "cell_type": "code",
   "metadata": {},
   "source": [],
   "outputs": [],
   "execution_count": null
  },
  {
   "cell_type": "code",
   "metadata": {
    "colab": {
     "base_uri": "https://localhost:8080/",
     "height": 221
    },
    "executionInfo": {
     "elapsed": 60,
     "status": "ok",
     "timestamp": 1646286481006,
     "user": {
      "displayName": "Rizwan Hamid Randhawa",
      "photoUrl": "https://lh3.googleusercontent.com/a-/AOh14GiCoBmDlAGvdCQjk-uJ2xxx1pJC0fjRsK2FcWLNdaY=s64",
      "userId": "15615777248917371178"
     },
     "user_tz": 0
    },
    "id": "hPMsTK_pWj2B",
    "outputId": "69298b35-df4a-4b68-9100-369f528e2fdb",
    "scrolled": false
   },
   "source": [
    "%%time \n",
    "# if GAN_type == 'CGAN' or GAN_type == 'WCGAN':\n",
    "if USE_KMEANS_FOR_CLASSIFICATION:\n",
    "    algorithms = [ \n",
    "    #     [ 'KMeans', cluster.KMeans, (), {'random_state':0} ],\n",
    "        [ 'KMeans', cluster.KMeans, (), {'n_clusters':1, 'random_state':0} ],\n",
    "    #     [ 'KMeans 3', cluster.KMeans, (), {'n_clusters':3, 'random_state':0} ],\n",
    "    #     [ 'Agglomerative', cluster.AgglomerativeClustering, (), {} ],\n",
    "    #     [ 'Agglomerative', cluster.AgglomerativeClustering, (), {'linkage': 'ward', 'n_clusters': 3} ],\n",
    "    #     [ 'Agg. Ave 3', cluster.AgglomerativeClustering, (), {'linkage': 'average', 'n_clusters': 3} ],\n",
    "    #     [ 'Agg. Complete 3', cluster.AgglomerativeClustering, (), {'linkage': 'complete', 'n_clusters': 3} ],\n",
    "    #     [ 'DBSCAN', cluster.DBSCAN, (), {'eps':0.025} ],\n",
    "    #     [ 'HDBSCAN', hdbscan.HDBSCAN, (), {} ],\n",
    "    #     [ 'HDBSCAN', hdbscan.HDBSCAN, (), {'min_cluster_size':10, 'min_samples':1, } ],\n",
    "    #     [ 'HDBSCAN 2 10', hdbscan.HDBSCAN, (), {'min_cluster_size':2, 'min_samples':10, } ],\n",
    "    #     [ 'HDBSCAN 10 10 ', hdbscan.HDBSCAN, (), {'min_cluster_size':10, 'min_samples':10, } ],\n",
    "    ]\n",
    "\n",
    "    rows = len(algorithms)\n",
    "    columns = 1\n",
    "    fig, ax = plt.subplots(3, 2, figsize=(3, 2),\n",
    "                            constrained_layout=True)\n",
    "\n",
    "    for i, [name, algorithm, args, kwds] in enumerate(algorithms):\n",
    "\n",
    "        labels = algorithm(*args, **kwds).fit_predict(train_no_label)\n",
    "        print(len(labels))\n",
    "        colors = np.clip(labels,-1,9)\n",
    "        colors = [ 'C'+str(i) if i>-1 else 'white' for i in colors ]\n",
    "\n",
    "        plt.subplot(rows,columns,i*columns+1)\n",
    "        plt.scatter(train_no_label[data_cols[0]], train_no_label[data_cols[1]], c=colors)\n",
    "        plt.xlabel(data_cols[0]), plt.ylabel(data_cols[1])\n",
    "        plt.title(name)\n",
    "            \n",
    "\n",
    "#     else:\n",
    "#         labels = train_bots_only['Label'].values.tolist() \n",
    "#         sns.set(style=\"ticks\", color_codes=True) # Remove background and grid\n",
    "\n",
    "#     #     g = sns.scatterplot(data_cols[0],data_cols[1], data=train, hue=labels)\n",
    "\n",
    "#     #     plt.show() \n",
    "\n",
    "\n",
    "#         plt.figure()\n",
    "#         ax = sns.countplot(y=\"Label\", data=train_bots_only) # for Seaborn version 0.7 and more\n",
    "#         for p in ax.patches:\n",
    "#             ax.text(p.get_y() + p.get_width() + 2700 , p.get_y()+p.get_height()-0.1, p.get_width(), ha=\"center\") \n",
    "\n",
    "#         ax.set_ylabel('Botnets')\n",
    "\n",
    "#         plt.savefig('Botnet-Trainset.pdf', dpi=600)\n",
    "#         plt.show()\n",
    "\n",
    "\n",
    "\n",
    "\n",
    "#         plt.figure(figsize=(6, 6))\n",
    "#         ax = sns.countplot(y=\"Label\", data=test_bots_only) # for Seaborn version 0.7 and more\n",
    "#         for p in ax.patches:\n",
    "#             ax.text(p.get_y() + p.get_width() + 6000 , p.get_y()+p.get_height()-0.1, p.get_width(), ha=\"center\") \n",
    "\n",
    "#         ax.set_ylabel('Botnets')\n",
    "\n",
    "#         plt.savefig('Botnet-Testset.pdf', dpi=600)\n",
    "#         plt.show()\n",
    "\n",
    "#     #     g = sns.catplot(x=\"class\", hue=\"who\", col=\"survived\", data=titanic, kind=\"count\", height=4, aspect=.7);\n",
    "\n",
    "\n",
    "#     #     sns.pairplot(data=train, vars=[data_cols[0], data_cols[1]], hue='Label')\n",
    "\n",
    "\n",
    "#     # plt.grid(False)\n",
    "#     # plt.show()\n",
    "#     print(train_no_label.describe())\n",
    "    \n",
    "    botnet_w_classes = train_no_label.copy()\n",
    "    botnet_w_classes['Label'] = labels\n",
    "\n",
    "#     print(botnet_w_classes.describe())\n",
    "    train_data = botnet_w_classes\n",
    "    \n",
    "# else:\n",
    "#     train_data = train_no_label\n"
   ],
   "outputs": [],
   "execution_count": null
  },
  {
   "cell_type": "code",
   "metadata": {
    "colab": {
     "base_uri": "https://localhost:8080/"
    },
    "executionInfo": {
     "elapsed": 54,
     "status": "ok",
     "timestamp": 1646286481008,
     "user": {
      "displayName": "Rizwan Hamid Randhawa",
      "photoUrl": "https://lh3.googleusercontent.com/a-/AOh14GiCoBmDlAGvdCQjk-uJ2xxx1pJC0fjRsK2FcWLNdaY=s64",
      "userId": "15615777248917371178"
     },
     "user_tz": 0
    },
    "id": "wmB4aCmMWj2D",
    "outputId": "bb6c85f1-3ae0-4e88-99bd-0b6f26f1f70d",
    "scrolled": true
   },
   "source": [
    "train_data['Label']"
   ],
   "outputs": [],
   "execution_count": null
  },
  {
   "cell_type": "markdown",
   "metadata": {
    "id": "q168UjfTWj2E"
   },
   "source": [
    "<a id=\"GPU Settings\"><h2>GAN Training</h2></a>"
   ]
  },
  {
   "cell_type": "code",
   "metadata": {
    "scrolled": false
   },
   "source": [
    "import header\n",
    "import importlib\n",
    "importlib.reload(header) # For reloading after making changes\n",
    "from header import *\n",
    "\n",
    "\n",
    "gpu_device = '/device:GPU:1'\n",
    "physical_devices = tf.config.list_physical_devices('GPU') \n",
    "for gpu_instance in physical_devices: \n",
    "    tf.config.experimental.set_memory_growth(gpu_instance, True)\n",
    "\n",
    "#----------------------------------\n",
    "# Set neurons and batch size\n",
    "#----------------------------------\n",
    "base_n_count = 256\n",
    "batch_size =  256\n",
    "#----------------------------------\n",
    "\n",
    "\n",
    "result = train_data\n",
    "\n",
    "remaining = train_data.shape[0] % batch_size\n",
    "\n",
    "if remaining > 0:\n",
    "    if remaining < train_data.shape[0]:\n",
    "        additional = batch_size - remaining\n",
    "        _additional = train_data.loc[train_data.shape[0]-additional:train_data.shape[0],: ]  \n",
    "        \n",
    "        frames = [train_data, _additional]\n",
    "        result = pd.concat(frames).reset_index(drop=True)\n",
    "\n",
    "print('Result: ' + str(result.shape))\n",
    "\n",
    "# batch_size = 1\n",
    "# ---------------------------------\n",
    "nb_steps = required_epochs * result.shape[0] // batch_size\n",
    "\n",
    "log_interval = result.shape[0] // batch_size # We are setting this as an epoch. This depends on data size.\n",
    "\n",
    "print(\"log_interval : \" + str(log_interval))\n",
    "\n",
    "# nb_steps = TRAINING_ITERATIONS  # 50000 # Add one for logging of the last interval\n",
    "print(\"Total Batch Iterations: \" + str(nb_steps))\n",
    "rand_noise_dim = 100 \n",
    "\n",
    "\n",
    "k_d = 1  # number of critic network updates per adversarial training step\n",
    "k_g = 1  # number of generator network updates per adversarial training step\n",
    "\n",
    "critic_pre_train_steps = 100# 100  # number of steps to pre-train the critic before starting adversarial training\n",
    "\n",
    "generator_model_path, discriminator_model_path, loss_pickle_path = None, None, None\n",
    "\n",
    "show = True \n",
    "train = result#.copy().reset_index(drop=True) # botnet only with labels from classification\n",
    "\n",
    "\n",
    "\n",
    "label_cols = [ i for i in train.columns if 'Label' in i ]\n",
    "\n",
    "data_cols = [ i for i in train.columns if i not in label_cols ]\n",
    "\n",
    "print(data_cols)\n",
    "\n",
    "train_no_label = train[ data_cols ]\n",
    "\n",
    "train_no_label = round(train_no_label, 4)\n",
    "\n",
    "# if SAVE_ONLY_BOT_DATA:\n",
    "#     train_no_label.to_csv(str(DATA_SET_PATH) + 'ONLY_BOTNET_DATA_(Preprocessed).csv')\n",
    "#     print('File: ' + 'ONLY_BOTNET_DATA_(Preprocessed).csv saved to directory')   \n",
    "\n",
    "\n",
    "\n",
    "test_size = train.shape[0] \n",
    "learning_rate = 5e-4\n",
    "\n",
    "\n",
    "TODAY = DATA_SET + '_' + str(datetime.datetime.now()) \n",
    "\n",
    "print(TODAY)\n",
    "\n",
    "\n",
    "arguments = [rand_noise_dim, nb_steps, batch_size, \n",
    "            k_d, k_g, critic_pre_train_steps, log_interval, learning_rate, base_n_count,\n",
    "            CACHE_PATH, FIGS_PATH, show, test_size, gpu_device, EVALUATION_PARAMETER, TODAY, DATA_SET ]\n",
    "\n",
    "best_losses = train_RELEVAGAN_CC(arguments, train, Train, data_cols)\n",
    "        "
   ],
   "outputs": [],
   "execution_count": null
  },
  {
   "cell_type": "code",
   "metadata": {},
   "source": [],
   "outputs": [],
   "execution_count": null
  }
 ],
 "metadata": {
  "accelerator": "GPU",
  "celltoolbar": "Slideshow",
  "colab": {
   "collapsed_sections": [],
   "name": "RELEVAGAN.ipynb",
   "provenance": []
  },
  "interpreter": {
   "hash": "0754585e5bea998e5d67e8f88be1e2a4051f453a7d5aedf516d053743049d686"
  },
  "kernelspec": {
   "display_name": "Python 3 (ipykernel)",
   "language": "python",
   "name": "python3"
  },
  "language_info": {
   "codemirror_mode": {
    "name": "ipython",
    "version": 3
   },
   "file_extension": ".py",
   "mimetype": "text/x-python",
   "name": "python",
   "nbconvert_exporter": "python",
   "pygments_lexer": "ipython3",
   "version": "3.9.12"
  }
 },
 "nbformat": 4,
 "nbformat_minor": 1
}
